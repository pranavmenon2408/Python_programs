{
 "cells": [
  {
   "cell_type": "code",
   "execution_count": 1,
   "metadata": {},
   "outputs": [],
   "source": [
    "import pandas as pd\n",
    "import numpy as np\n",
    "import matplotlib.pyplot as plt\n",
    "import seaborn as sn "
   ]
  },
  {
   "cell_type": "code",
   "execution_count": 2,
   "metadata": {},
   "outputs": [
    {
     "data": {
      "text/html": [
       "<div>\n",
       "<style scoped>\n",
       "    .dataframe tbody tr th:only-of-type {\n",
       "        vertical-align: middle;\n",
       "    }\n",
       "\n",
       "    .dataframe tbody tr th {\n",
       "        vertical-align: top;\n",
       "    }\n",
       "\n",
       "    .dataframe thead th {\n",
       "        text-align: right;\n",
       "    }\n",
       "</style>\n",
       "<table border=\"1\" class=\"dataframe\">\n",
       "  <thead>\n",
       "    <tr style=\"text-align: right;\">\n",
       "      <th></th>\n",
       "      <th>0</th>\n",
       "      <th>1</th>\n",
       "      <th>2</th>\n",
       "      <th>3</th>\n",
       "      <th>4</th>\n",
       "      <th>5</th>\n",
       "      <th>6</th>\n",
       "      <th>7</th>\n",
       "      <th>8</th>\n",
       "      <th>9</th>\n",
       "      <th>...</th>\n",
       "      <th>51</th>\n",
       "      <th>52</th>\n",
       "      <th>53</th>\n",
       "      <th>54</th>\n",
       "      <th>55</th>\n",
       "      <th>56</th>\n",
       "      <th>57</th>\n",
       "      <th>58</th>\n",
       "      <th>59</th>\n",
       "      <th>60</th>\n",
       "    </tr>\n",
       "  </thead>\n",
       "  <tbody>\n",
       "    <tr>\n",
       "      <th>190</th>\n",
       "      <td>0.0156</td>\n",
       "      <td>0.0210</td>\n",
       "      <td>0.0282</td>\n",
       "      <td>0.0596</td>\n",
       "      <td>0.0462</td>\n",
       "      <td>0.0779</td>\n",
       "      <td>0.1365</td>\n",
       "      <td>0.0780</td>\n",
       "      <td>0.1038</td>\n",
       "      <td>0.1567</td>\n",
       "      <td>...</td>\n",
       "      <td>0.0150</td>\n",
       "      <td>0.0060</td>\n",
       "      <td>0.0082</td>\n",
       "      <td>0.0091</td>\n",
       "      <td>0.0038</td>\n",
       "      <td>0.0056</td>\n",
       "      <td>0.0056</td>\n",
       "      <td>0.0048</td>\n",
       "      <td>0.0024</td>\n",
       "      <td>M</td>\n",
       "    </tr>\n",
       "    <tr>\n",
       "      <th>173</th>\n",
       "      <td>0.0329</td>\n",
       "      <td>0.0216</td>\n",
       "      <td>0.0386</td>\n",
       "      <td>0.0627</td>\n",
       "      <td>0.1158</td>\n",
       "      <td>0.1482</td>\n",
       "      <td>0.2054</td>\n",
       "      <td>0.1605</td>\n",
       "      <td>0.2532</td>\n",
       "      <td>0.2672</td>\n",
       "      <td>...</td>\n",
       "      <td>0.0095</td>\n",
       "      <td>0.0151</td>\n",
       "      <td>0.0059</td>\n",
       "      <td>0.0015</td>\n",
       "      <td>0.0053</td>\n",
       "      <td>0.0016</td>\n",
       "      <td>0.0042</td>\n",
       "      <td>0.0053</td>\n",
       "      <td>0.0074</td>\n",
       "      <td>M</td>\n",
       "    </tr>\n",
       "    <tr>\n",
       "      <th>183</th>\n",
       "      <td>0.0096</td>\n",
       "      <td>0.0404</td>\n",
       "      <td>0.0682</td>\n",
       "      <td>0.0688</td>\n",
       "      <td>0.0887</td>\n",
       "      <td>0.0932</td>\n",
       "      <td>0.0955</td>\n",
       "      <td>0.2140</td>\n",
       "      <td>0.2546</td>\n",
       "      <td>0.2952</td>\n",
       "      <td>...</td>\n",
       "      <td>0.0237</td>\n",
       "      <td>0.0078</td>\n",
       "      <td>0.0144</td>\n",
       "      <td>0.0170</td>\n",
       "      <td>0.0012</td>\n",
       "      <td>0.0109</td>\n",
       "      <td>0.0036</td>\n",
       "      <td>0.0043</td>\n",
       "      <td>0.0018</td>\n",
       "      <td>M</td>\n",
       "    </tr>\n",
       "    <tr>\n",
       "      <th>14</th>\n",
       "      <td>0.0124</td>\n",
       "      <td>0.0433</td>\n",
       "      <td>0.0604</td>\n",
       "      <td>0.0449</td>\n",
       "      <td>0.0597</td>\n",
       "      <td>0.0355</td>\n",
       "      <td>0.0531</td>\n",
       "      <td>0.0343</td>\n",
       "      <td>0.1052</td>\n",
       "      <td>0.2120</td>\n",
       "      <td>...</td>\n",
       "      <td>0.0083</td>\n",
       "      <td>0.0057</td>\n",
       "      <td>0.0174</td>\n",
       "      <td>0.0188</td>\n",
       "      <td>0.0054</td>\n",
       "      <td>0.0114</td>\n",
       "      <td>0.0196</td>\n",
       "      <td>0.0147</td>\n",
       "      <td>0.0062</td>\n",
       "      <td>R</td>\n",
       "    </tr>\n",
       "    <tr>\n",
       "      <th>50</th>\n",
       "      <td>0.0353</td>\n",
       "      <td>0.0713</td>\n",
       "      <td>0.0326</td>\n",
       "      <td>0.0272</td>\n",
       "      <td>0.0370</td>\n",
       "      <td>0.0792</td>\n",
       "      <td>0.1083</td>\n",
       "      <td>0.0687</td>\n",
       "      <td>0.0298</td>\n",
       "      <td>0.0880</td>\n",
       "      <td>...</td>\n",
       "      <td>0.0163</td>\n",
       "      <td>0.0242</td>\n",
       "      <td>0.0043</td>\n",
       "      <td>0.0202</td>\n",
       "      <td>0.0108</td>\n",
       "      <td>0.0037</td>\n",
       "      <td>0.0096</td>\n",
       "      <td>0.0093</td>\n",
       "      <td>0.0053</td>\n",
       "      <td>R</td>\n",
       "    </tr>\n",
       "  </tbody>\n",
       "</table>\n",
       "<p>5 rows × 61 columns</p>\n",
       "</div>"
      ],
      "text/plain": [
       "         0       1       2       3       4       5       6       7       8   \\\n",
       "190  0.0156  0.0210  0.0282  0.0596  0.0462  0.0779  0.1365  0.0780  0.1038   \n",
       "173  0.0329  0.0216  0.0386  0.0627  0.1158  0.1482  0.2054  0.1605  0.2532   \n",
       "183  0.0096  0.0404  0.0682  0.0688  0.0887  0.0932  0.0955  0.2140  0.2546   \n",
       "14   0.0124  0.0433  0.0604  0.0449  0.0597  0.0355  0.0531  0.0343  0.1052   \n",
       "50   0.0353  0.0713  0.0326  0.0272  0.0370  0.0792  0.1083  0.0687  0.0298   \n",
       "\n",
       "         9   ...      51      52      53      54      55      56      57  \\\n",
       "190  0.1567  ...  0.0150  0.0060  0.0082  0.0091  0.0038  0.0056  0.0056   \n",
       "173  0.2672  ...  0.0095  0.0151  0.0059  0.0015  0.0053  0.0016  0.0042   \n",
       "183  0.2952  ...  0.0237  0.0078  0.0144  0.0170  0.0012  0.0109  0.0036   \n",
       "14   0.2120  ...  0.0083  0.0057  0.0174  0.0188  0.0054  0.0114  0.0196   \n",
       "50   0.0880  ...  0.0163  0.0242  0.0043  0.0202  0.0108  0.0037  0.0096   \n",
       "\n",
       "         58      59  60  \n",
       "190  0.0048  0.0024   M  \n",
       "173  0.0053  0.0074   M  \n",
       "183  0.0043  0.0018   M  \n",
       "14   0.0147  0.0062   R  \n",
       "50   0.0093  0.0053   R  \n",
       "\n",
       "[5 rows x 61 columns]"
      ]
     },
     "execution_count": 2,
     "metadata": {},
     "output_type": "execute_result"
    }
   ],
   "source": [
    "import warnings\n",
    "warnings.filterwarnings('ignore')\n",
    "\n",
    "df=pd.read_csv(r\"D:\\Downloads\\sonar_dataset.csv\",header=None)\n",
    "df.sample(5)"
   ]
  },
  {
   "cell_type": "code",
   "execution_count": 3,
   "metadata": {},
   "outputs": [
    {
     "data": {
      "text/plain": [
       "(208, 61)"
      ]
     },
     "execution_count": 3,
     "metadata": {},
     "output_type": "execute_result"
    }
   ],
   "source": [
    "df.shape"
   ]
  },
  {
   "cell_type": "code",
   "execution_count": 4,
   "metadata": {},
   "outputs": [],
   "source": [
    "x=df.drop(60,axis='columns')\n",
    "y=df[60]\n"
   ]
  },
  {
   "cell_type": "code",
   "execution_count": 5,
   "metadata": {},
   "outputs": [
    {
     "data": {
      "text/html": [
       "<div>\n",
       "<style scoped>\n",
       "    .dataframe tbody tr th:only-of-type {\n",
       "        vertical-align: middle;\n",
       "    }\n",
       "\n",
       "    .dataframe tbody tr th {\n",
       "        vertical-align: top;\n",
       "    }\n",
       "\n",
       "    .dataframe thead th {\n",
       "        text-align: right;\n",
       "    }\n",
       "</style>\n",
       "<table border=\"1\" class=\"dataframe\">\n",
       "  <thead>\n",
       "    <tr style=\"text-align: right;\">\n",
       "      <th></th>\n",
       "      <th>R</th>\n",
       "    </tr>\n",
       "  </thead>\n",
       "  <tbody>\n",
       "    <tr>\n",
       "      <th>177</th>\n",
       "      <td>0</td>\n",
       "    </tr>\n",
       "    <tr>\n",
       "      <th>166</th>\n",
       "      <td>0</td>\n",
       "    </tr>\n",
       "    <tr>\n",
       "      <th>182</th>\n",
       "      <td>0</td>\n",
       "    </tr>\n",
       "    <tr>\n",
       "      <th>24</th>\n",
       "      <td>1</td>\n",
       "    </tr>\n",
       "    <tr>\n",
       "      <th>76</th>\n",
       "      <td>1</td>\n",
       "    </tr>\n",
       "  </tbody>\n",
       "</table>\n",
       "</div>"
      ],
      "text/plain": [
       "     R\n",
       "177  0\n",
       "166  0\n",
       "182  0\n",
       "24   1\n",
       "76   1"
      ]
     },
     "execution_count": 5,
     "metadata": {},
     "output_type": "execute_result"
    }
   ],
   "source": [
    "y=pd.get_dummies(y,drop_first=True)\n",
    "y.sample(5)"
   ]
  },
  {
   "cell_type": "code",
   "execution_count": 6,
   "metadata": {},
   "outputs": [],
   "source": [
    "from sklearn.model_selection import train_test_split\n",
    "X_train,X_test,y_train,y_test=train_test_split(x,y,test_size=0.25,random_state=1)"
   ]
  },
  {
   "cell_type": "code",
   "execution_count": 7,
   "metadata": {},
   "outputs": [
    {
     "data": {
      "text/plain": [
       "((156, 60), (52, 60))"
      ]
     },
     "execution_count": 7,
     "metadata": {},
     "output_type": "execute_result"
    }
   ],
   "source": [
    "X_train.shape,X_test.shape"
   ]
  },
  {
   "cell_type": "code",
   "execution_count": 8,
   "metadata": {},
   "outputs": [],
   "source": [
    "import tensorflow as tf\n",
    "from tensorflow import keras\n"
   ]
  },
  {
   "cell_type": "code",
   "execution_count": 13,
   "metadata": {},
   "outputs": [
    {
     "name": "stdout",
     "output_type": "stream",
     "text": [
      "Epoch 1/100\n",
      "20/20 [==============================] - 1s 2ms/step - loss: 0.7287 - accuracy: 0.5962\n",
      "Epoch 2/100\n",
      "20/20 [==============================] - 0s 3ms/step - loss: 0.7002 - accuracy: 0.5705\n",
      "Epoch 3/100\n",
      "20/20 [==============================] - 0s 3ms/step - loss: 0.7413 - accuracy: 0.4872\n",
      "Epoch 4/100\n",
      "20/20 [==============================] - 0s 2ms/step - loss: 0.6893 - accuracy: 0.5192\n",
      "Epoch 5/100\n",
      "20/20 [==============================] - 0s 3ms/step - loss: 0.6941 - accuracy: 0.4744\n",
      "Epoch 6/100\n",
      "20/20 [==============================] - 0s 2ms/step - loss: 0.6564 - accuracy: 0.5769\n",
      "Epoch 7/100\n",
      "20/20 [==============================] - 0s 3ms/step - loss: 0.6518 - accuracy: 0.6154\n",
      "Epoch 8/100\n",
      "20/20 [==============================] - 0s 3ms/step - loss: 0.6815 - accuracy: 0.5641\n",
      "Epoch 9/100\n",
      "20/20 [==============================] - 0s 3ms/step - loss: 0.6629 - accuracy: 0.5833\n",
      "Epoch 10/100\n",
      "20/20 [==============================] - 0s 3ms/step - loss: 0.6774 - accuracy: 0.6026\n",
      "Epoch 11/100\n",
      "20/20 [==============================] - 0s 2ms/step - loss: 0.6709 - accuracy: 0.5000\n",
      "Epoch 12/100\n",
      "20/20 [==============================] - 0s 2ms/step - loss: 0.6731 - accuracy: 0.5513\n",
      "Epoch 13/100\n",
      "20/20 [==============================] - 0s 3ms/step - loss: 0.6729 - accuracy: 0.5897\n",
      "Epoch 14/100\n",
      "20/20 [==============================] - 0s 2ms/step - loss: 0.6587 - accuracy: 0.5962\n",
      "Epoch 15/100\n",
      "20/20 [==============================] - 0s 3ms/step - loss: 0.6576 - accuracy: 0.5833\n",
      "Epoch 16/100\n",
      "20/20 [==============================] - 0s 2ms/step - loss: 0.6286 - accuracy: 0.6346\n",
      "Epoch 17/100\n",
      "20/20 [==============================] - 0s 2ms/step - loss: 0.6399 - accuracy: 0.6026\n",
      "Epoch 18/100\n",
      "20/20 [==============================] - 0s 2ms/step - loss: 0.6485 - accuracy: 0.5769\n",
      "Epoch 19/100\n",
      "20/20 [==============================] - 0s 2ms/step - loss: 0.6500 - accuracy: 0.6218\n",
      "Epoch 20/100\n",
      "20/20 [==============================] - 0s 2ms/step - loss: 0.6554 - accuracy: 0.5769\n",
      "Epoch 21/100\n",
      "20/20 [==============================] - 0s 2ms/step - loss: 0.6423 - accuracy: 0.5705\n",
      "Epoch 22/100\n",
      "20/20 [==============================] - 0s 2ms/step - loss: 0.6156 - accuracy: 0.6731\n",
      "Epoch 23/100\n",
      "20/20 [==============================] - 0s 2ms/step - loss: 0.6135 - accuracy: 0.6410\n",
      "Epoch 24/100\n",
      "20/20 [==============================] - 0s 2ms/step - loss: 0.6292 - accuracy: 0.6987\n",
      "Epoch 25/100\n",
      "20/20 [==============================] - 0s 2ms/step - loss: 0.6271 - accuracy: 0.6474\n",
      "Epoch 26/100\n",
      "20/20 [==============================] - 0s 2ms/step - loss: 0.6174 - accuracy: 0.6282\n",
      "Epoch 27/100\n",
      "20/20 [==============================] - 0s 2ms/step - loss: 0.5948 - accuracy: 0.6795\n",
      "Epoch 28/100\n",
      "20/20 [==============================] - 0s 2ms/step - loss: 0.6007 - accuracy: 0.6282\n",
      "Epoch 29/100\n",
      "20/20 [==============================] - 0s 2ms/step - loss: 0.6230 - accuracy: 0.6795\n",
      "Epoch 30/100\n",
      "20/20 [==============================] - 0s 2ms/step - loss: 0.5948 - accuracy: 0.6731\n",
      "Epoch 31/100\n",
      "20/20 [==============================] - 0s 2ms/step - loss: 0.5743 - accuracy: 0.7115\n",
      "Epoch 32/100\n",
      "20/20 [==============================] - 0s 2ms/step - loss: 0.5712 - accuracy: 0.7179\n",
      "Epoch 33/100\n",
      "20/20 [==============================] - 0s 2ms/step - loss: 0.5450 - accuracy: 0.6987\n",
      "Epoch 34/100\n",
      "20/20 [==============================] - 0s 2ms/step - loss: 0.5903 - accuracy: 0.6667\n",
      "Epoch 35/100\n",
      "20/20 [==============================] - 0s 2ms/step - loss: 0.5542 - accuracy: 0.6987\n",
      "Epoch 36/100\n",
      "20/20 [==============================] - 0s 2ms/step - loss: 0.5101 - accuracy: 0.7115\n",
      "Epoch 37/100\n",
      "20/20 [==============================] - 0s 2ms/step - loss: 0.5479 - accuracy: 0.7308\n",
      "Epoch 38/100\n",
      "20/20 [==============================] - 0s 2ms/step - loss: 0.5381 - accuracy: 0.7244\n",
      "Epoch 39/100\n",
      "20/20 [==============================] - 0s 2ms/step - loss: 0.5442 - accuracy: 0.7436\n",
      "Epoch 40/100\n",
      "20/20 [==============================] - 0s 2ms/step - loss: 0.5059 - accuracy: 0.7692\n",
      "Epoch 41/100\n",
      "20/20 [==============================] - 0s 2ms/step - loss: 0.4871 - accuracy: 0.7308\n",
      "Epoch 42/100\n",
      "20/20 [==============================] - 0s 2ms/step - loss: 0.4739 - accuracy: 0.7885\n",
      "Epoch 43/100\n",
      "20/20 [==============================] - 0s 2ms/step - loss: 0.5029 - accuracy: 0.7756\n",
      "Epoch 44/100\n",
      "20/20 [==============================] - 0s 2ms/step - loss: 0.5113 - accuracy: 0.7179\n",
      "Epoch 45/100\n",
      "20/20 [==============================] - 0s 2ms/step - loss: 0.4763 - accuracy: 0.7564\n",
      "Epoch 46/100\n",
      "20/20 [==============================] - 0s 2ms/step - loss: 0.4873 - accuracy: 0.7821\n",
      "Epoch 47/100\n",
      "20/20 [==============================] - 0s 2ms/step - loss: 0.4516 - accuracy: 0.8269\n",
      "Epoch 48/100\n",
      "20/20 [==============================] - 0s 3ms/step - loss: 0.5410 - accuracy: 0.7949\n",
      "Epoch 49/100\n",
      "20/20 [==============================] - 0s 2ms/step - loss: 0.4691 - accuracy: 0.7628\n",
      "Epoch 50/100\n",
      "20/20 [==============================] - 0s 2ms/step - loss: 0.5227 - accuracy: 0.7821\n",
      "Epoch 51/100\n",
      "20/20 [==============================] - 0s 2ms/step - loss: 0.4738 - accuracy: 0.7756\n",
      "Epoch 52/100\n",
      "20/20 [==============================] - 0s 2ms/step - loss: 0.4560 - accuracy: 0.8013\n",
      "Epoch 53/100\n",
      "20/20 [==============================] - 0s 2ms/step - loss: 0.4450 - accuracy: 0.8269\n",
      "Epoch 54/100\n",
      "20/20 [==============================] - 0s 2ms/step - loss: 0.4346 - accuracy: 0.7949\n",
      "Epoch 55/100\n",
      "20/20 [==============================] - 0s 2ms/step - loss: 0.5057 - accuracy: 0.7885\n",
      "Epoch 56/100\n",
      "20/20 [==============================] - 0s 2ms/step - loss: 0.4016 - accuracy: 0.8333\n",
      "Epoch 57/100\n",
      "20/20 [==============================] - 0s 2ms/step - loss: 0.3983 - accuracy: 0.8269\n",
      "Epoch 58/100\n",
      "20/20 [==============================] - 0s 2ms/step - loss: 0.4093 - accuracy: 0.8269\n",
      "Epoch 59/100\n",
      "20/20 [==============================] - 0s 2ms/step - loss: 0.4163 - accuracy: 0.8333\n",
      "Epoch 60/100\n",
      "20/20 [==============================] - 0s 2ms/step - loss: 0.4561 - accuracy: 0.8013\n",
      "Epoch 61/100\n",
      "20/20 [==============================] - 0s 2ms/step - loss: 0.4135 - accuracy: 0.8077\n",
      "Epoch 62/100\n",
      "20/20 [==============================] - 0s 2ms/step - loss: 0.4648 - accuracy: 0.8077\n",
      "Epoch 63/100\n",
      "20/20 [==============================] - 0s 2ms/step - loss: 0.3993 - accuracy: 0.8718\n",
      "Epoch 64/100\n",
      "20/20 [==============================] - 0s 2ms/step - loss: 0.3979 - accuracy: 0.8141\n",
      "Epoch 65/100\n",
      "20/20 [==============================] - 0s 2ms/step - loss: 0.4189 - accuracy: 0.8205\n",
      "Epoch 66/100\n",
      "20/20 [==============================] - 0s 2ms/step - loss: 0.4514 - accuracy: 0.8141\n",
      "Epoch 67/100\n",
      "20/20 [==============================] - 0s 2ms/step - loss: 0.3939 - accuracy: 0.8269\n",
      "Epoch 68/100\n",
      "20/20 [==============================] - 0s 2ms/step - loss: 0.4142 - accuracy: 0.8526\n",
      "Epoch 69/100\n",
      "20/20 [==============================] - 0s 2ms/step - loss: 0.4254 - accuracy: 0.8141\n",
      "Epoch 70/100\n",
      "20/20 [==============================] - 0s 2ms/step - loss: 0.4310 - accuracy: 0.7821\n",
      "Epoch 71/100\n",
      "20/20 [==============================] - 0s 2ms/step - loss: 0.4232 - accuracy: 0.8333\n",
      "Epoch 72/100\n",
      "20/20 [==============================] - 0s 2ms/step - loss: 0.3487 - accuracy: 0.8333\n",
      "Epoch 73/100\n",
      "20/20 [==============================] - 0s 2ms/step - loss: 0.4066 - accuracy: 0.8462\n",
      "Epoch 74/100\n",
      "20/20 [==============================] - 0s 2ms/step - loss: 0.3881 - accuracy: 0.8462\n",
      "Epoch 75/100\n",
      "20/20 [==============================] - 0s 3ms/step - loss: 0.4035 - accuracy: 0.8205\n",
      "Epoch 76/100\n",
      "20/20 [==============================] - 0s 2ms/step - loss: 0.3428 - accuracy: 0.8590\n",
      "Epoch 77/100\n",
      "20/20 [==============================] - 0s 2ms/step - loss: 0.3601 - accuracy: 0.8910\n",
      "Epoch 78/100\n",
      "20/20 [==============================] - 0s 2ms/step - loss: 0.3295 - accuracy: 0.8974\n",
      "Epoch 79/100\n",
      "20/20 [==============================] - 0s 2ms/step - loss: 0.3455 - accuracy: 0.8590\n",
      "Epoch 80/100\n",
      "20/20 [==============================] - 0s 2ms/step - loss: 0.3487 - accuracy: 0.8590\n",
      "Epoch 81/100\n",
      "20/20 [==============================] - 0s 2ms/step - loss: 0.3809 - accuracy: 0.8526\n",
      "Epoch 82/100\n",
      "20/20 [==============================] - 0s 2ms/step - loss: 0.3401 - accuracy: 0.8654\n",
      "Epoch 83/100\n",
      "20/20 [==============================] - 0s 2ms/step - loss: 0.3528 - accuracy: 0.8397\n",
      "Epoch 84/100\n",
      "20/20 [==============================] - 0s 2ms/step - loss: 0.3184 - accuracy: 0.8846\n",
      "Epoch 85/100\n",
      "20/20 [==============================] - 0s 2ms/step - loss: 0.3163 - accuracy: 0.8846\n",
      "Epoch 86/100\n",
      "20/20 [==============================] - 0s 2ms/step - loss: 0.4186 - accuracy: 0.8205\n",
      "Epoch 87/100\n",
      "20/20 [==============================] - 0s 2ms/step - loss: 0.2839 - accuracy: 0.8974\n",
      "Epoch 88/100\n",
      "20/20 [==============================] - 0s 2ms/step - loss: 0.3813 - accuracy: 0.8654\n",
      "Epoch 89/100\n",
      "20/20 [==============================] - 0s 2ms/step - loss: 0.3221 - accuracy: 0.8846\n",
      "Epoch 90/100\n",
      "20/20 [==============================] - 0s 2ms/step - loss: 0.3591 - accuracy: 0.8590\n",
      "Epoch 91/100\n",
      "20/20 [==============================] - 0s 2ms/step - loss: 0.3219 - accuracy: 0.8526\n",
      "Epoch 92/100\n",
      "20/20 [==============================] - 0s 2ms/step - loss: 0.3030 - accuracy: 0.8910\n",
      "Epoch 93/100\n",
      "20/20 [==============================] - 0s 2ms/step - loss: 0.3381 - accuracy: 0.8718\n",
      "Epoch 94/100\n",
      "20/20 [==============================] - 0s 2ms/step - loss: 0.2491 - accuracy: 0.9038\n",
      "Epoch 95/100\n",
      "20/20 [==============================] - 0s 2ms/step - loss: 0.3400 - accuracy: 0.8654\n",
      "Epoch 96/100\n",
      "20/20 [==============================] - 0s 2ms/step - loss: 0.2871 - accuracy: 0.9038\n",
      "Epoch 97/100\n",
      "20/20 [==============================] - 0s 2ms/step - loss: 0.2945 - accuracy: 0.8910\n",
      "Epoch 98/100\n",
      "20/20 [==============================] - 0s 2ms/step - loss: 0.3374 - accuracy: 0.8526\n",
      "Epoch 99/100\n",
      "20/20 [==============================] - 0s 3ms/step - loss: 0.2891 - accuracy: 0.8782\n",
      "Epoch 100/100\n",
      "20/20 [==============================] - 0s 2ms/step - loss: 0.2809 - accuracy: 0.8910\n"
     ]
    },
    {
     "data": {
      "text/plain": [
       "<keras.callbacks.History at 0x297ced48550>"
      ]
     },
     "execution_count": 13,
     "metadata": {},
     "output_type": "execute_result"
    }
   ],
   "source": [
    "model=keras.Sequential([keras.layers.Dense(60,input_dim=60,activation='relu'),keras.layers.Dropout(0.5),keras.layers.Dense(30,activation='relu'),keras.layers.Dropout(0.5),keras.layers.Dense(15,activation='relu'),keras.layers.Dropout(0.5),keras.layers.Dense(1,activation='sigmoid')])\n",
    "\n",
    "model.compile(optimizer='adam',loss='binary_crossentropy',metrics=['accuracy'])\n",
    "\n",
    "model.fit(X_train,y_train,epochs=100,batch_size=8)"
   ]
  },
  {
   "cell_type": "code",
   "execution_count": 14,
   "metadata": {},
   "outputs": [
    {
     "name": "stdout",
     "output_type": "stream",
     "text": [
      "2/2 [==============================] - 0s 11ms/step - loss: 0.3635 - accuracy: 0.8269\n"
     ]
    },
    {
     "data": {
      "text/plain": [
       "[0.36345767974853516, 0.8269230723381042]"
      ]
     },
     "execution_count": 14,
     "metadata": {},
     "output_type": "execute_result"
    }
   ],
   "source": [
    "model.evaluate(X_test,y_test)"
   ]
  },
  {
   "cell_type": "code",
   "execution_count": 15,
   "metadata": {},
   "outputs": [
    {
     "name": "stdout",
     "output_type": "stream",
     "text": [
      "2/2 [==============================] - 0s 11ms/step\n"
     ]
    },
    {
     "data": {
      "text/plain": [
       "array([[1.11251786e-04],\n",
       "       [8.81439865e-01],\n",
       "       [9.39455152e-01],\n",
       "       [1.49294250e-02],\n",
       "       [9.99555111e-01],\n",
       "       [9.44851518e-01],\n",
       "       [3.64779174e-01],\n",
       "       [9.99712527e-01],\n",
       "       [2.72167623e-02],\n",
       "       [9.99862373e-01],\n",
       "       [7.54324794e-01],\n",
       "       [4.69966859e-01],\n",
       "       [1.61449909e-01],\n",
       "       [5.37537858e-02],\n",
       "       [2.33983934e-01],\n",
       "       [1.96448117e-01],\n",
       "       [9.85308230e-01],\n",
       "       [2.07753927e-02],\n",
       "       [6.85668886e-01],\n",
       "       [9.99100924e-01],\n",
       "       [2.46929079e-02],\n",
       "       [9.99015927e-01],\n",
       "       [4.73129243e-01],\n",
       "       [8.94066691e-01],\n",
       "       [1.45495817e-01],\n",
       "       [3.13281897e-03],\n",
       "       [2.13315129e-01],\n",
       "       [9.78700519e-02],\n",
       "       [9.97571290e-01],\n",
       "       [6.11722320e-02],\n",
       "       [6.05246186e-01],\n",
       "       [3.78744700e-03],\n",
       "       [2.52712160e-01],\n",
       "       [8.97697031e-01],\n",
       "       [8.61069500e-01],\n",
       "       [9.04271603e-01],\n",
       "       [9.98469830e-01],\n",
       "       [9.87543404e-01],\n",
       "       [9.91813838e-01],\n",
       "       [1.56713128e-01],\n",
       "       [1.53051257e-01],\n",
       "       [9.80954841e-02],\n",
       "       [2.26657614e-01],\n",
       "       [8.71937256e-03],\n",
       "       [9.76334065e-02],\n",
       "       [4.71651256e-02],\n",
       "       [5.29774547e-01],\n",
       "       [9.95891392e-01],\n",
       "       [2.72608250e-01],\n",
       "       [1.94208011e-01],\n",
       "       [2.58433044e-01],\n",
       "       [1.40451984e-02]], dtype=float32)"
      ]
     },
     "execution_count": 15,
     "metadata": {},
     "output_type": "execute_result"
    }
   ],
   "source": [
    "yp=model.predict(X_test)\n",
    "yp"
   ]
  },
  {
   "cell_type": "code",
   "execution_count": 16,
   "metadata": {},
   "outputs": [
    {
     "data": {
      "text/plain": [
       "[0, 1, 1, 0, 1, 1, 0, 1, 0, 1]"
      ]
     },
     "execution_count": 16,
     "metadata": {},
     "output_type": "execute_result"
    }
   ],
   "source": [
    "y_pred=[]\n",
    "for i in yp:\n",
    "    if i>0.5:\n",
    "        y_pred.append(1)\n",
    "    else:\n",
    "        y_pred.append(0)\n",
    "y_pred[:10]"
   ]
  },
  {
   "cell_type": "code",
   "execution_count": 17,
   "metadata": {},
   "outputs": [
    {
     "name": "stdout",
     "output_type": "stream",
     "text": [
      "              precision    recall  f1-score   support\n",
      "\n",
      "           0       0.80      0.89      0.84        27\n",
      "           1       0.86      0.76      0.81        25\n",
      "\n",
      "    accuracy                           0.83        52\n",
      "   macro avg       0.83      0.82      0.83        52\n",
      "weighted avg       0.83      0.83      0.83        52\n",
      "\n"
     ]
    }
   ],
   "source": [
    "from sklearn.metrics import classification_report\n",
    "print(classification_report(y_test,y_pred))"
   ]
  },
  {
   "cell_type": "code",
   "execution_count": 18,
   "metadata": {},
   "outputs": [
    {
     "data": {
      "text/plain": [
       "Text(95.72222222222221, 0.5, 'Truth')"
      ]
     },
     "execution_count": 18,
     "metadata": {},
     "output_type": "execute_result"
    },
    {
     "data": {
      "image/png": "[encoded data removed]",
      "text/plain": [
       "<Figure size 1000x700 with 2 Axes>"
      ]
     },
     "metadata": {},
     "output_type": "display_data"
    }
   ],
   "source": [
    "cm=tf.math.confusion_matrix(labels=y_test,predictions=y_pred)\n",
    "plt.figure(figsize=(10,7))\n",
    "sn.heatmap(cm,annot=True,fmt='d')\n",
    "plt.xlabel('Predicted')\n",
    "plt.ylabel('Truth')"
   ]
  },
  {
   "cell_type": "code",
   "execution_count": null,
   "metadata": {},
   "outputs": [],
   "source": []
  }
 ],
 "metadata": {
  "kernelspec": {
   "display_name": "Python 3",
   "language": "python",
   "name": "python3"
  },
  "language_info": {
   "codemirror_mode": {
    "name": "ipython",
    "version": 3
   },
   "file_extension": ".py",
   "mimetype": "text/x-python",
   "name": "python",
   "nbconvert_exporter": "python",
   "pygments_lexer": "ipython3",
   "version": "3.10.0"
  },
  "orig_nbformat": 4
 },
 "nbformat": 4,
 "nbformat_minor": 2
}
