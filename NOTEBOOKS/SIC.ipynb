{
 "cells": [
  {
   "cell_type": "code",
   "execution_count": 1,
   "metadata": {},
   "outputs": [],
   "source": [
    "import tensorflow as tf\n",
    "from tensorflow import keras\n",
    "import matplotlib.pyplot as plt\n",
    "import numpy as np"
   ]
  },
  {
   "cell_type": "code",
   "execution_count": 2,
   "metadata": {},
   "outputs": [
    {
     "name": "stdout",
     "output_type": "stream",
     "text": [
      "Downloading data from https://www.cs.toronto.edu/~kriz/cifar-10-python.tar.gz\n",
      "170498071/170498071 [==============================] - 130s 1us/step\n"
     ]
    }
   ],
   "source": [
    "(X_train,y_train),(X_test,y_test)=tf.keras.datasets.cifar10.load_data()"
   ]
  },
  {
   "cell_type": "code",
   "execution_count": 3,
   "metadata": {},
   "outputs": [
    {
     "data": {
      "text/plain": [
       "(50000, 32, 32, 3)"
      ]
     },
     "execution_count": 3,
     "metadata": {},
     "output_type": "execute_result"
    }
   ],
   "source": [
    "X_train.shape"
   ]
  },
  {
   "cell_type": "code",
   "execution_count": 4,
   "metadata": {},
   "outputs": [
    {
     "data": {
      "text/plain": [
       "array([[ 59,  62,  63],\n",
       "       [ 43,  46,  45],\n",
       "       [ 50,  48,  43],\n",
       "       [ 68,  54,  42],\n",
       "       [ 98,  73,  52],\n",
       "       [119,  91,  63],\n",
       "       [139, 107,  75],\n",
       "       [145, 110,  80],\n",
       "       [149, 117,  89],\n",
       "       [149, 120,  93],\n",
       "       [131, 103,  77],\n",
       "       [125,  99,  76],\n",
       "       [142, 115,  91],\n",
       "       [144, 112,  86],\n",
       "       [137, 105,  79],\n",
       "       [129,  97,  71],\n",
       "       [137, 106,  79],\n",
       "       [134, 106,  76],\n",
       "       [124,  97,  64],\n",
       "       [139, 113,  78],\n",
       "       [139, 112,  75],\n",
       "       [133, 105,  69],\n",
       "       [136, 105,  74],\n",
       "       [139, 108,  77],\n",
       "       [152, 120,  89],\n",
       "       [163, 131, 100],\n",
       "       [168, 136, 108],\n",
       "       [159, 129, 102],\n",
       "       [158, 130, 104],\n",
       "       [158, 132, 108],\n",
       "       [152, 125, 102],\n",
       "       [148, 124, 103]], dtype=uint8)"
      ]
     },
     "execution_count": 4,
     "metadata": {},
     "output_type": "execute_result"
    }
   ],
   "source": [
    "X_train[0][0]"
   ]
  },
  {
   "cell_type": "code",
   "execution_count": 5,
   "metadata": {},
   "outputs": [],
   "source": [
    "def plot_sample(index):\n",
    "    plt.figure(figsize=(10,1))\n",
    "    plt.imshow(X_train[index])"
   ]
  },
  {
   "cell_type": "code",
   "execution_count": 6,
   "metadata": {},
   "outputs": [
    {
     "data": {
      "image/png": "[encoded data removed]",
      "text/plain": [
       "<Figure size 1000x100 with 1 Axes>"
      ]
     },
     "metadata": {},
     "output_type": "display_data"
    }
   ],
   "source": [
    "plot_sample(0)"
   ]
  },
  {
   "cell_type": "code",
   "execution_count": 7,
   "metadata": {},
   "outputs": [],
   "source": [
    "classes=['airplane','automobile','bird','cat','deer','dog','frog','horse','ship','truck']"
   ]
  },
  {
   "cell_type": "code",
   "execution_count": 8,
   "metadata": {},
   "outputs": [
    {
     "data": {
      "text/plain": [
       "'deer'"
      ]
     },
     "execution_count": 8,
     "metadata": {},
     "output_type": "execute_result"
    }
   ],
   "source": [
    "classes[y_train[3][0]]"
   ]
  },
  {
   "cell_type": "code",
   "execution_count": 9,
   "metadata": {},
   "outputs": [
    {
     "data": {
      "text/plain": [
       "array([[[0.23137255, 0.24313725, 0.24705882],\n",
       "        [0.16862745, 0.18039216, 0.17647059],\n",
       "        [0.19607843, 0.18823529, 0.16862745],\n",
       "        ...,\n",
       "        [0.61960784, 0.51764706, 0.42352941],\n",
       "        [0.59607843, 0.49019608, 0.4       ],\n",
       "        [0.58039216, 0.48627451, 0.40392157]],\n",
       "\n",
       "       [[0.0627451 , 0.07843137, 0.07843137],\n",
       "        [0.        , 0.        , 0.        ],\n",
       "        [0.07058824, 0.03137255, 0.        ],\n",
       "        ...,\n",
       "        [0.48235294, 0.34509804, 0.21568627],\n",
       "        [0.46666667, 0.3254902 , 0.19607843],\n",
       "        [0.47843137, 0.34117647, 0.22352941]],\n",
       "\n",
       "       [[0.09803922, 0.09411765, 0.08235294],\n",
       "        [0.0627451 , 0.02745098, 0.        ],\n",
       "        [0.19215686, 0.10588235, 0.03137255],\n",
       "        ...,\n",
       "        [0.4627451 , 0.32941176, 0.19607843],\n",
       "        [0.47058824, 0.32941176, 0.19607843],\n",
       "        [0.42745098, 0.28627451, 0.16470588]],\n",
       "\n",
       "       ...,\n",
       "\n",
       "       [[0.81568627, 0.66666667, 0.37647059],\n",
       "        [0.78823529, 0.6       , 0.13333333],\n",
       "        [0.77647059, 0.63137255, 0.10196078],\n",
       "        ...,\n",
       "        [0.62745098, 0.52156863, 0.2745098 ],\n",
       "        [0.21960784, 0.12156863, 0.02745098],\n",
       "        [0.20784314, 0.13333333, 0.07843137]],\n",
       "\n",
       "       [[0.70588235, 0.54509804, 0.37647059],\n",
       "        [0.67843137, 0.48235294, 0.16470588],\n",
       "        [0.72941176, 0.56470588, 0.11764706],\n",
       "        ...,\n",
       "        [0.72156863, 0.58039216, 0.36862745],\n",
       "        [0.38039216, 0.24313725, 0.13333333],\n",
       "        [0.3254902 , 0.20784314, 0.13333333]],\n",
       "\n",
       "       [[0.69411765, 0.56470588, 0.45490196],\n",
       "        [0.65882353, 0.50588235, 0.36862745],\n",
       "        [0.70196078, 0.55686275, 0.34117647],\n",
       "        ...,\n",
       "        [0.84705882, 0.72156863, 0.54901961],\n",
       "        [0.59215686, 0.4627451 , 0.32941176],\n",
       "        [0.48235294, 0.36078431, 0.28235294]]])"
      ]
     },
     "execution_count": 9,
     "metadata": {},
     "output_type": "execute_result"
    }
   ],
   "source": [
    "X_train_norm=X_train.astype('float32')\n",
    "X_train_norm=X_train/255.0\n",
    "X_train_norm[0]"
   ]
  },
  {
   "cell_type": "code",
   "execution_count": 11,
   "metadata": {},
   "outputs": [
    {
     "data": {
      "text/plain": [
       "array([[[0.61960784, 0.43921569, 0.19215686],\n",
       "        [0.62352941, 0.43529412, 0.18431373],\n",
       "        [0.64705882, 0.45490196, 0.2       ],\n",
       "        ...,\n",
       "        [0.5372549 , 0.37254902, 0.14117647],\n",
       "        [0.49411765, 0.35686275, 0.14117647],\n",
       "        [0.45490196, 0.33333333, 0.12941176]],\n",
       "\n",
       "       [[0.59607843, 0.43921569, 0.2       ],\n",
       "        [0.59215686, 0.43137255, 0.15686275],\n",
       "        [0.62352941, 0.44705882, 0.17647059],\n",
       "        ...,\n",
       "        [0.53333333, 0.37254902, 0.12156863],\n",
       "        [0.49019608, 0.35686275, 0.1254902 ],\n",
       "        [0.46666667, 0.34509804, 0.13333333]],\n",
       "\n",
       "       [[0.59215686, 0.43137255, 0.18431373],\n",
       "        [0.59215686, 0.42745098, 0.12941176],\n",
       "        [0.61960784, 0.43529412, 0.14117647],\n",
       "        ...,\n",
       "        [0.54509804, 0.38431373, 0.13333333],\n",
       "        [0.50980392, 0.37254902, 0.13333333],\n",
       "        [0.47058824, 0.34901961, 0.12941176]],\n",
       "\n",
       "       ...,\n",
       "\n",
       "       [[0.26666667, 0.48627451, 0.69411765],\n",
       "        [0.16470588, 0.39215686, 0.58039216],\n",
       "        [0.12156863, 0.34509804, 0.5372549 ],\n",
       "        ...,\n",
       "        [0.14901961, 0.38039216, 0.57254902],\n",
       "        [0.05098039, 0.25098039, 0.42352941],\n",
       "        [0.15686275, 0.33333333, 0.49803922]],\n",
       "\n",
       "       [[0.23921569, 0.45490196, 0.65882353],\n",
       "        [0.19215686, 0.4       , 0.58039216],\n",
       "        [0.1372549 , 0.33333333, 0.51764706],\n",
       "        ...,\n",
       "        [0.10196078, 0.32156863, 0.50980392],\n",
       "        [0.11372549, 0.32156863, 0.49411765],\n",
       "        [0.07843137, 0.25098039, 0.41960784]],\n",
       "\n",
       "       [[0.21176471, 0.41960784, 0.62745098],\n",
       "        [0.21960784, 0.41176471, 0.58431373],\n",
       "        [0.17647059, 0.34901961, 0.51764706],\n",
       "        ...,\n",
       "        [0.09411765, 0.30196078, 0.48627451],\n",
       "        [0.13333333, 0.32941176, 0.50588235],\n",
       "        [0.08235294, 0.2627451 , 0.43137255]]])"
      ]
     },
     "execution_count": 11,
     "metadata": {},
     "output_type": "execute_result"
    }
   ],
   "source": [
    "X_test_norm=X_test.astype('float32')\n",
    "X_test_norm=X_test/255.0\n",
    "X_test_norm[0]"
   ]
  },
  {
   "cell_type": "code",
   "execution_count": 10,
   "metadata": {},
   "outputs": [
    {
     "data": {
      "text/plain": [
       "array([[0., 0., 0., 0., 0., 0., 1., 0., 0., 0.],\n",
       "       [0., 0., 0., 0., 0., 0., 0., 0., 0., 1.],\n",
       "       [0., 0., 0., 0., 0., 0., 0., 0., 0., 1.],\n",
       "       [0., 0., 0., 0., 1., 0., 0., 0., 0., 0.],\n",
       "       [0., 1., 0., 0., 0., 0., 0., 0., 0., 0.]], dtype=float32)"
      ]
     },
     "execution_count": 10,
     "metadata": {},
     "output_type": "execute_result"
    }
   ],
   "source": [
    "y_train_categorical=keras.utils.to_categorical(y_train,num_classes=10,dtype='float32')\n",
    "y_train_categorical[:5]"
   ]
  },
  {
   "cell_type": "code",
   "execution_count": 12,
   "metadata": {},
   "outputs": [
    {
     "name": "stdout",
     "output_type": "stream",
     "text": [
      "Epoch 1/50\n",
      "1563/1563 [==============================] - 111s 69ms/step - loss: 1.8066 - accuracy: 0.3571\n",
      "Epoch 2/50\n",
      "1563/1563 [==============================] - 105s 67ms/step - loss: 1.6190 - accuracy: 0.4281\n",
      "Epoch 3/50\n",
      "1563/1563 [==============================] - 132s 84ms/step - loss: 1.5401 - accuracy: 0.4570\n",
      "Epoch 4/50\n",
      "1563/1563 [==============================] - 103s 66ms/step - loss: 1.4796 - accuracy: 0.4783\n",
      "Epoch 5/50\n",
      "1563/1563 [==============================] - 113s 72ms/step - loss: 1.4273 - accuracy: 0.4967\n",
      "Epoch 6/50\n",
      "1563/1563 [==============================] - 149s 95ms/step - loss: 1.3875 - accuracy: 0.5131\n",
      "Epoch 7/50\n",
      "1563/1563 [==============================] - 135s 86ms/step - loss: 1.3463 - accuracy: 0.5254\n",
      "Epoch 8/50\n",
      "1563/1563 [==============================] - 106s 68ms/step - loss: 1.3145 - accuracy: 0.5392\n",
      "Epoch 9/50\n",
      "1563/1563 [==============================] - 104s 66ms/step - loss: 1.2809 - accuracy: 0.5500\n",
      "Epoch 10/50\n",
      "1563/1563 [==============================] - 106s 68ms/step - loss: 1.2509 - accuracy: 0.5616\n",
      "Epoch 11/50\n",
      "1563/1563 [==============================] - 111s 71ms/step - loss: 1.2204 - accuracy: 0.5733\n",
      "Epoch 12/50\n",
      "1563/1563 [==============================] - 111s 71ms/step - loss: 1.1903 - accuracy: 0.5833\n",
      "Epoch 13/50\n",
      "1563/1563 [==============================] - 119s 76ms/step - loss: 1.1619 - accuracy: 0.5935\n",
      "Epoch 14/50\n",
      "1563/1563 [==============================] - 107s 69ms/step - loss: 1.1344 - accuracy: 0.6042\n",
      "Epoch 15/50\n",
      "1563/1563 [==============================] - 108s 69ms/step - loss: 1.1089 - accuracy: 0.6138\n",
      "Epoch 16/50\n",
      "1563/1563 [==============================] - 117s 75ms/step - loss: 1.0819 - accuracy: 0.6229\n",
      "Epoch 17/50\n",
      "1563/1563 [==============================] - 114s 73ms/step - loss: 1.0583 - accuracy: 0.6305\n",
      "Epoch 18/50\n",
      "1563/1563 [==============================] - 109s 70ms/step - loss: 1.0290 - accuracy: 0.6418\n",
      "Epoch 19/50\n",
      "1563/1563 [==============================] - 107s 68ms/step - loss: 1.0052 - accuracy: 0.6513\n",
      "Epoch 20/50\n",
      "1563/1563 [==============================] - 107s 68ms/step - loss: 0.9791 - accuracy: 0.6607\n",
      "Epoch 21/50\n",
      "1563/1563 [==============================] - 107s 68ms/step - loss: 0.9566 - accuracy: 0.6683\n",
      "Epoch 22/50\n",
      "1563/1563 [==============================] - 107s 68ms/step - loss: 0.9266 - accuracy: 0.6817\n",
      "Epoch 23/50\n",
      "1563/1563 [==============================] - 109s 69ms/step - loss: 0.9035 - accuracy: 0.6886\n",
      "Epoch 24/50\n",
      "1563/1563 [==============================] - 117s 75ms/step - loss: 0.8769 - accuracy: 0.6976\n",
      "Epoch 25/50\n",
      "1563/1563 [==============================] - 113s 73ms/step - loss: 0.8527 - accuracy: 0.7069\n",
      "Epoch 26/50\n",
      "1563/1563 [==============================] - 115s 73ms/step - loss: 0.8288 - accuracy: 0.7138\n",
      "Epoch 27/50\n",
      "1563/1563 [==============================] - 113s 73ms/step - loss: 0.8036 - accuracy: 0.7248\n",
      "Epoch 28/50\n",
      "1563/1563 [==============================] - 113s 72ms/step - loss: 0.7801 - accuracy: 0.7342\n",
      "Epoch 29/50\n",
      "1563/1563 [==============================] - 109s 70ms/step - loss: 0.7507 - accuracy: 0.7432\n",
      "Epoch 30/50\n",
      "1563/1563 [==============================] - 108s 69ms/step - loss: 0.7244 - accuracy: 0.7533\n",
      "Epoch 31/50\n",
      "1563/1563 [==============================] - 107s 69ms/step - loss: 0.7010 - accuracy: 0.7638\n",
      "Epoch 32/50\n",
      "1563/1563 [==============================] - 106s 68ms/step - loss: 0.6764 - accuracy: 0.7700\n",
      "Epoch 33/50\n",
      "1563/1563 [==============================] - 106s 68ms/step - loss: 0.6534 - accuracy: 0.7795\n",
      "Epoch 34/50\n",
      "1563/1563 [==============================] - 107s 69ms/step - loss: 0.6323 - accuracy: 0.7870\n",
      "Epoch 35/50\n",
      "1563/1563 [==============================] - 108s 69ms/step - loss: 0.6033 - accuracy: 0.7988\n",
      "Epoch 36/50\n",
      "1563/1563 [==============================] - 106s 68ms/step - loss: 0.5807 - accuracy: 0.8052\n",
      "Epoch 37/50\n",
      "1563/1563 [==============================] - 107s 68ms/step - loss: 0.5571 - accuracy: 0.8142\n",
      "Epoch 38/50\n",
      "1563/1563 [==============================] - 107s 69ms/step - loss: 0.5336 - accuracy: 0.8244\n",
      "Epoch 39/50\n",
      "1563/1563 [==============================] - 109s 69ms/step - loss: 0.5078 - accuracy: 0.8331\n",
      "Epoch 40/50\n",
      "1563/1563 [==============================] - 107s 69ms/step - loss: 0.4857 - accuracy: 0.8418\n",
      "Epoch 41/50\n",
      "1563/1563 [==============================] - 106s 68ms/step - loss: 0.4696 - accuracy: 0.8470\n",
      "Epoch 42/50\n",
      "1563/1563 [==============================] - 106s 68ms/step - loss: 0.4450 - accuracy: 0.8551\n",
      "Epoch 43/50\n",
      "1563/1563 [==============================] - 106s 68ms/step - loss: 0.4262 - accuracy: 0.8623\n",
      "Epoch 44/50\n",
      "1563/1563 [==============================] - 106s 68ms/step - loss: 0.4044 - accuracy: 0.8714\n",
      "Epoch 45/50\n",
      "1563/1563 [==============================] - 105s 67ms/step - loss: 0.3871 - accuracy: 0.8768\n",
      "Epoch 46/50\n",
      "1563/1563 [==============================] - 105s 67ms/step - loss: 0.3687 - accuracy: 0.8837\n",
      "Epoch 47/50\n",
      "1563/1563 [==============================] - 105s 67ms/step - loss: 0.3470 - accuracy: 0.8938\n",
      "Epoch 48/50\n",
      "1563/1563 [==============================] - 106s 68ms/step - loss: 0.3318 - accuracy: 0.8979\n",
      "Epoch 49/50\n",
      "1563/1563 [==============================] - 106s 68ms/step - loss: 0.3109 - accuracy: 0.9066\n",
      "Epoch 50/50\n",
      "1563/1563 [==============================] - 106s 68ms/step - loss: 0.2924 - accuracy: 0.9124\n"
     ]
    },
    {
     "data": {
      "text/plain": [
       "<keras.callbacks.History at 0x208aed70190>"
      ]
     },
     "execution_count": 12,
     "metadata": {},
     "output_type": "execute_result"
    }
   ],
   "source": [
    "model=keras.Sequential([keras.layers.Flatten(input_shape=(32,32,3)),keras.layers.Dense(3000,activation='relu'),keras.layers.Dense(1000,activation='relu'), keras.layers.Dense(10,activation='sigmoid')])\n",
    "\n",
    "model.compile(optimizer='SGD',loss='categorical_crossentropy',metrics=['accuracy'])\n",
    "\n",
    "model.fit(X_train_norm,y_train_categorical,epochs=50)"
   ]
  },
  {
   "cell_type": "code",
   "execution_count": 14,
   "metadata": {},
   "outputs": [
    {
     "name": "stdout",
     "output_type": "stream",
     "text": [
      "313/313 [==============================] - 6s 19ms/step\n"
     ]
    }
   ],
   "source": [
    "y_predict=model.predict(X_test_norm)"
   ]
  },
  {
   "cell_type": "code",
   "execution_count": 15,
   "metadata": {},
   "outputs": [
    {
     "data": {
      "text/plain": [
       "3"
      ]
     },
     "execution_count": 15,
     "metadata": {},
     "output_type": "execute_result"
    }
   ],
   "source": [
    "np.argmax(y_predict[0])"
   ]
  },
  {
   "cell_type": "code",
   "execution_count": 17,
   "metadata": {},
   "outputs": [
    {
     "data": {
      "text/plain": [
       "'cat'"
      ]
     },
     "execution_count": 17,
     "metadata": {},
     "output_type": "execute_result"
    }
   ],
   "source": [
    "classes[np.argmax(y_predict[0])]"
   ]
  },
  {
   "cell_type": "code",
   "execution_count": 24,
   "metadata": {},
   "outputs": [
    {
     "data": {
      "text/plain": [
       "'frog'"
      ]
     },
     "execution_count": 24,
     "metadata": {},
     "output_type": "execute_result"
    }
   ],
   "source": [
    "classes[y_test[4][0]]"
   ]
  },
  {
   "cell_type": "code",
   "execution_count": 29,
   "metadata": {},
   "outputs": [
    {
     "data": {
      "text/plain": [
       "[3, 8, 8, 0, 6, 6, 1, 6, 3, 1]"
      ]
     },
     "execution_count": 29,
     "metadata": {},
     "output_type": "execute_result"
    }
   ],
   "source": [
    "y_predicted_labels=[np.argmax(i) for i in y_predict]\n",
    "y_test_labels=[i[0] for i in y_test]\n",
    "\n",
    "y_test_labels[:10]\n"
   ]
  },
  {
   "cell_type": "code",
   "execution_count": 31,
   "metadata": {},
   "outputs": [
    {
     "data": {
      "text/plain": [
       "[3, 8, 0, 0, 4, 6, 1, 6, 4, 1]"
      ]
     },
     "execution_count": 31,
     "metadata": {},
     "output_type": "execute_result"
    }
   ],
   "source": [
    "y_predicted_labels[:10]"
   ]
  },
  {
   "cell_type": "code",
   "execution_count": 30,
   "metadata": {},
   "outputs": [
    {
     "data": {
      "text/plain": [
       "Text(95.72222222222221, 0.5, 'Truth')"
      ]
     },
     "execution_count": 30,
     "metadata": {},
     "output_type": "execute_result"
    },
    {
     "data": {
      "image/png": "[encoded data removed]",
      "text/plain": [
       "<Figure size 1000x700 with 2 Axes>"
      ]
     },
     "metadata": {},
     "output_type": "display_data"
    }
   ],
   "source": [
    "import seaborn as sn\n",
    "cm=tf.math.confusion_matrix(labels=y_test_labels,predictions=y_predicted_labels)\n",
    "plt.figure(figsize=(10,7))\n",
    "sn.heatmap(cm,annot=True,fmt='d')\n",
    "plt.xlabel('Predicted')\n",
    "plt.ylabel('Truth')\n",
    "\n"
   ]
  },
  {
   "cell_type": "code",
   "execution_count": null,
   "metadata": {},
   "outputs": [],
   "source": []
  }
 ],
 "metadata": {
  "kernelspec": {
   "display_name": "Python 3",
   "language": "python",
   "name": "python3"
  },
  "language_info": {
   "codemirror_mode": {
    "name": "ipython",
    "version": 3
   },
   "file_extension": ".py",
   "mimetype": "text/x-python",
   "name": "python",
   "nbconvert_exporter": "python",
   "pygments_lexer": "ipython3",
   "version": "3.10.0"
  },
  "orig_nbformat": 4
 },
 "nbformat": 4,
 "nbformat_minor": 2
}
