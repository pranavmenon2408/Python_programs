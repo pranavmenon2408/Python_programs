{
 "cells": [
  {
   "cell_type": "code",
   "execution_count": 2,
   "metadata": {},
   "outputs": [],
   "source": [
    "import pandas as pd\n",
    "import tensorflow as tf \n",
    "import numpy as np\n",
    "from matplotlib import pyplot as plt\n"
   ]
  },
  {
   "cell_type": "code",
   "execution_count": 3,
   "metadata": {},
   "outputs": [
    {
     "data": {
      "text/html": [
       "<div>\n",
       "<style scoped>\n",
       "    .dataframe tbody tr th:only-of-type {\n",
       "        vertical-align: middle;\n",
       "    }\n",
       "\n",
       "    .dataframe tbody tr th {\n",
       "        vertical-align: top;\n",
       "    }\n",
       "\n",
       "    .dataframe thead th {\n",
       "        text-align: right;\n",
       "    }\n",
       "</style>\n",
       "<table border=\"1\" class=\"dataframe\">\n",
       "  <thead>\n",
       "    <tr style=\"text-align: right;\">\n",
       "      <th></th>\n",
       "      <th>customerID</th>\n",
       "      <th>gender</th>\n",
       "      <th>SeniorCitizen</th>\n",
       "      <th>Partner</th>\n",
       "      <th>Dependents</th>\n",
       "      <th>tenure</th>\n",
       "      <th>PhoneService</th>\n",
       "      <th>MultipleLines</th>\n",
       "      <th>InternetService</th>\n",
       "      <th>OnlineSecurity</th>\n",
       "      <th>...</th>\n",
       "      <th>DeviceProtection</th>\n",
       "      <th>TechSupport</th>\n",
       "      <th>StreamingTV</th>\n",
       "      <th>StreamingMovies</th>\n",
       "      <th>Contract</th>\n",
       "      <th>PaperlessBilling</th>\n",
       "      <th>PaymentMethod</th>\n",
       "      <th>MonthlyCharges</th>\n",
       "      <th>TotalCharges</th>\n",
       "      <th>Churn</th>\n",
       "    </tr>\n",
       "  </thead>\n",
       "  <tbody>\n",
       "    <tr>\n",
       "      <th>3836</th>\n",
       "      <td>6872-HXFNF</td>\n",
       "      <td>Female</td>\n",
       "      <td>0</td>\n",
       "      <td>Yes</td>\n",
       "      <td>No</td>\n",
       "      <td>64</td>\n",
       "      <td>Yes</td>\n",
       "      <td>Yes</td>\n",
       "      <td>DSL</td>\n",
       "      <td>No</td>\n",
       "      <td>...</td>\n",
       "      <td>Yes</td>\n",
       "      <td>Yes</td>\n",
       "      <td>No</td>\n",
       "      <td>No</td>\n",
       "      <td>One year</td>\n",
       "      <td>No</td>\n",
       "      <td>Bank transfer (automatic)</td>\n",
       "      <td>58.35</td>\n",
       "      <td>3756.45</td>\n",
       "      <td>No</td>\n",
       "    </tr>\n",
       "    <tr>\n",
       "      <th>3362</th>\n",
       "      <td>3658-KIBGF</td>\n",
       "      <td>Female</td>\n",
       "      <td>0</td>\n",
       "      <td>No</td>\n",
       "      <td>No</td>\n",
       "      <td>1</td>\n",
       "      <td>Yes</td>\n",
       "      <td>No</td>\n",
       "      <td>DSL</td>\n",
       "      <td>Yes</td>\n",
       "      <td>...</td>\n",
       "      <td>No</td>\n",
       "      <td>No</td>\n",
       "      <td>No</td>\n",
       "      <td>No</td>\n",
       "      <td>Month-to-month</td>\n",
       "      <td>Yes</td>\n",
       "      <td>Electronic check</td>\n",
       "      <td>54.90</td>\n",
       "      <td>54.9</td>\n",
       "      <td>Yes</td>\n",
       "    </tr>\n",
       "    <tr>\n",
       "      <th>6429</th>\n",
       "      <td>6332-FBZRI</td>\n",
       "      <td>Male</td>\n",
       "      <td>0</td>\n",
       "      <td>Yes</td>\n",
       "      <td>Yes</td>\n",
       "      <td>67</td>\n",
       "      <td>Yes</td>\n",
       "      <td>Yes</td>\n",
       "      <td>DSL</td>\n",
       "      <td>Yes</td>\n",
       "      <td>...</td>\n",
       "      <td>Yes</td>\n",
       "      <td>Yes</td>\n",
       "      <td>No</td>\n",
       "      <td>No</td>\n",
       "      <td>One year</td>\n",
       "      <td>Yes</td>\n",
       "      <td>Credit card (automatic)</td>\n",
       "      <td>69.35</td>\n",
       "      <td>4653.25</td>\n",
       "      <td>No</td>\n",
       "    </tr>\n",
       "    <tr>\n",
       "      <th>6542</th>\n",
       "      <td>3315-TOTBP</td>\n",
       "      <td>Male</td>\n",
       "      <td>0</td>\n",
       "      <td>No</td>\n",
       "      <td>No</td>\n",
       "      <td>15</td>\n",
       "      <td>Yes</td>\n",
       "      <td>Yes</td>\n",
       "      <td>Fiber optic</td>\n",
       "      <td>No</td>\n",
       "      <td>...</td>\n",
       "      <td>No</td>\n",
       "      <td>No</td>\n",
       "      <td>No</td>\n",
       "      <td>No</td>\n",
       "      <td>Month-to-month</td>\n",
       "      <td>Yes</td>\n",
       "      <td>Mailed check</td>\n",
       "      <td>76.00</td>\n",
       "      <td>1130.85</td>\n",
       "      <td>Yes</td>\n",
       "    </tr>\n",
       "    <tr>\n",
       "      <th>5332</th>\n",
       "      <td>4565-EVZMJ</td>\n",
       "      <td>Female</td>\n",
       "      <td>0</td>\n",
       "      <td>No</td>\n",
       "      <td>No</td>\n",
       "      <td>47</td>\n",
       "      <td>Yes</td>\n",
       "      <td>No</td>\n",
       "      <td>DSL</td>\n",
       "      <td>Yes</td>\n",
       "      <td>...</td>\n",
       "      <td>No</td>\n",
       "      <td>Yes</td>\n",
       "      <td>No</td>\n",
       "      <td>No</td>\n",
       "      <td>One year</td>\n",
       "      <td>Yes</td>\n",
       "      <td>Mailed check</td>\n",
       "      <td>58.90</td>\n",
       "      <td>2813.05</td>\n",
       "      <td>No</td>\n",
       "    </tr>\n",
       "  </tbody>\n",
       "</table>\n",
       "<p>5 rows × 21 columns</p>\n",
       "</div>"
      ],
      "text/plain": [
       "      customerID  gender  SeniorCitizen Partner Dependents  tenure  \\\n",
       "3836  6872-HXFNF  Female              0     Yes         No      64   \n",
       "3362  3658-KIBGF  Female              0      No         No       1   \n",
       "6429  6332-FBZRI    Male              0     Yes        Yes      67   \n",
       "6542  3315-TOTBP    Male              0      No         No      15   \n",
       "5332  4565-EVZMJ  Female              0      No         No      47   \n",
       "\n",
       "     PhoneService MultipleLines InternetService OnlineSecurity  ...  \\\n",
       "3836          Yes           Yes             DSL             No  ...   \n",
       "3362          Yes            No             DSL            Yes  ...   \n",
       "6429          Yes           Yes             DSL            Yes  ...   \n",
       "6542          Yes           Yes     Fiber optic             No  ...   \n",
       "5332          Yes            No             DSL            Yes  ...   \n",
       "\n",
       "     DeviceProtection TechSupport StreamingTV StreamingMovies        Contract  \\\n",
       "3836              Yes         Yes          No              No        One year   \n",
       "3362               No          No          No              No  Month-to-month   \n",
       "6429              Yes         Yes          No              No        One year   \n",
       "6542               No          No          No              No  Month-to-month   \n",
       "5332               No         Yes          No              No        One year   \n",
       "\n",
       "     PaperlessBilling              PaymentMethod MonthlyCharges  TotalCharges  \\\n",
       "3836               No  Bank transfer (automatic)          58.35       3756.45   \n",
       "3362              Yes           Electronic check          54.90          54.9   \n",
       "6429              Yes    Credit card (automatic)          69.35       4653.25   \n",
       "6542              Yes               Mailed check          76.00       1130.85   \n",
       "5332              Yes               Mailed check          58.90       2813.05   \n",
       "\n",
       "     Churn  \n",
       "3836    No  \n",
       "3362   Yes  \n",
       "6429    No  \n",
       "6542   Yes  \n",
       "5332    No  \n",
       "\n",
       "[5 rows x 21 columns]"
      ]
     },
     "execution_count": 3,
     "metadata": {},
     "output_type": "execute_result"
    }
   ],
   "source": [
    "df=pd.read_csv(r\"D:\\Downloads\\WA_Fn-UseC_-Telco-Customer-Churn.csv\")\n",
    "df.sample(5)"
   ]
  },
  {
   "cell_type": "code",
   "execution_count": 4,
   "metadata": {},
   "outputs": [],
   "source": [
    "df.drop('customerID',axis='columns',inplace=True)"
   ]
  },
  {
   "cell_type": "code",
   "execution_count": 5,
   "metadata": {},
   "outputs": [
    {
     "data": {
      "text/html": [
       "<div>\n",
       "<style scoped>\n",
       "    .dataframe tbody tr th:only-of-type {\n",
       "        vertical-align: middle;\n",
       "    }\n",
       "\n",
       "    .dataframe tbody tr th {\n",
       "        vertical-align: top;\n",
       "    }\n",
       "\n",
       "    .dataframe thead th {\n",
       "        text-align: right;\n",
       "    }\n",
       "</style>\n",
       "<table border=\"1\" class=\"dataframe\">\n",
       "  <thead>\n",
       "    <tr style=\"text-align: right;\">\n",
       "      <th></th>\n",
       "      <th>gender</th>\n",
       "      <th>SeniorCitizen</th>\n",
       "      <th>Partner</th>\n",
       "      <th>Dependents</th>\n",
       "      <th>tenure</th>\n",
       "      <th>PhoneService</th>\n",
       "      <th>MultipleLines</th>\n",
       "      <th>InternetService</th>\n",
       "      <th>OnlineSecurity</th>\n",
       "      <th>OnlineBackup</th>\n",
       "      <th>DeviceProtection</th>\n",
       "      <th>TechSupport</th>\n",
       "      <th>StreamingTV</th>\n",
       "      <th>StreamingMovies</th>\n",
       "      <th>Contract</th>\n",
       "      <th>PaperlessBilling</th>\n",
       "      <th>PaymentMethod</th>\n",
       "      <th>MonthlyCharges</th>\n",
       "      <th>TotalCharges</th>\n",
       "      <th>Churn</th>\n",
       "    </tr>\n",
       "  </thead>\n",
       "  <tbody>\n",
       "    <tr>\n",
       "      <th>1156</th>\n",
       "      <td>Female</td>\n",
       "      <td>0</td>\n",
       "      <td>No</td>\n",
       "      <td>No</td>\n",
       "      <td>53</td>\n",
       "      <td>Yes</td>\n",
       "      <td>No</td>\n",
       "      <td>No</td>\n",
       "      <td>No internet service</td>\n",
       "      <td>No internet service</td>\n",
       "      <td>No internet service</td>\n",
       "      <td>No internet service</td>\n",
       "      <td>No internet service</td>\n",
       "      <td>No internet service</td>\n",
       "      <td>Two year</td>\n",
       "      <td>No</td>\n",
       "      <td>Mailed check</td>\n",
       "      <td>18.70</td>\n",
       "      <td>1005.7</td>\n",
       "      <td>No</td>\n",
       "    </tr>\n",
       "    <tr>\n",
       "      <th>5455</th>\n",
       "      <td>Female</td>\n",
       "      <td>0</td>\n",
       "      <td>No</td>\n",
       "      <td>No</td>\n",
       "      <td>6</td>\n",
       "      <td>Yes</td>\n",
       "      <td>No</td>\n",
       "      <td>No</td>\n",
       "      <td>No internet service</td>\n",
       "      <td>No internet service</td>\n",
       "      <td>No internet service</td>\n",
       "      <td>No internet service</td>\n",
       "      <td>No internet service</td>\n",
       "      <td>No internet service</td>\n",
       "      <td>Month-to-month</td>\n",
       "      <td>No</td>\n",
       "      <td>Credit card (automatic)</td>\n",
       "      <td>19.70</td>\n",
       "      <td>129.55</td>\n",
       "      <td>No</td>\n",
       "    </tr>\n",
       "    <tr>\n",
       "      <th>6802</th>\n",
       "      <td>Female</td>\n",
       "      <td>0</td>\n",
       "      <td>No</td>\n",
       "      <td>No</td>\n",
       "      <td>20</td>\n",
       "      <td>Yes</td>\n",
       "      <td>Yes</td>\n",
       "      <td>Fiber optic</td>\n",
       "      <td>Yes</td>\n",
       "      <td>No</td>\n",
       "      <td>No</td>\n",
       "      <td>No</td>\n",
       "      <td>Yes</td>\n",
       "      <td>No</td>\n",
       "      <td>Month-to-month</td>\n",
       "      <td>Yes</td>\n",
       "      <td>Bank transfer (automatic)</td>\n",
       "      <td>89.10</td>\n",
       "      <td>1879.25</td>\n",
       "      <td>No</td>\n",
       "    </tr>\n",
       "    <tr>\n",
       "      <th>2410</th>\n",
       "      <td>Female</td>\n",
       "      <td>0</td>\n",
       "      <td>Yes</td>\n",
       "      <td>No</td>\n",
       "      <td>43</td>\n",
       "      <td>Yes</td>\n",
       "      <td>Yes</td>\n",
       "      <td>Fiber optic</td>\n",
       "      <td>No</td>\n",
       "      <td>Yes</td>\n",
       "      <td>No</td>\n",
       "      <td>No</td>\n",
       "      <td>No</td>\n",
       "      <td>No</td>\n",
       "      <td>Month-to-month</td>\n",
       "      <td>No</td>\n",
       "      <td>Electronic check</td>\n",
       "      <td>80.45</td>\n",
       "      <td>3398.9</td>\n",
       "      <td>No</td>\n",
       "    </tr>\n",
       "    <tr>\n",
       "      <th>3404</th>\n",
       "      <td>Female</td>\n",
       "      <td>0</td>\n",
       "      <td>No</td>\n",
       "      <td>Yes</td>\n",
       "      <td>35</td>\n",
       "      <td>Yes</td>\n",
       "      <td>No</td>\n",
       "      <td>DSL</td>\n",
       "      <td>Yes</td>\n",
       "      <td>Yes</td>\n",
       "      <td>No</td>\n",
       "      <td>No</td>\n",
       "      <td>No</td>\n",
       "      <td>No</td>\n",
       "      <td>One year</td>\n",
       "      <td>No</td>\n",
       "      <td>Credit card (automatic)</td>\n",
       "      <td>55.60</td>\n",
       "      <td>2016.45</td>\n",
       "      <td>No</td>\n",
       "    </tr>\n",
       "  </tbody>\n",
       "</table>\n",
       "</div>"
      ],
      "text/plain": [
       "      gender  SeniorCitizen Partner Dependents  tenure PhoneService  \\\n",
       "1156  Female              0      No         No      53          Yes   \n",
       "5455  Female              0      No         No       6          Yes   \n",
       "6802  Female              0      No         No      20          Yes   \n",
       "2410  Female              0     Yes         No      43          Yes   \n",
       "3404  Female              0      No        Yes      35          Yes   \n",
       "\n",
       "     MultipleLines InternetService       OnlineSecurity         OnlineBackup  \\\n",
       "1156            No              No  No internet service  No internet service   \n",
       "5455            No              No  No internet service  No internet service   \n",
       "6802           Yes     Fiber optic                  Yes                   No   \n",
       "2410           Yes     Fiber optic                   No                  Yes   \n",
       "3404            No             DSL                  Yes                  Yes   \n",
       "\n",
       "         DeviceProtection          TechSupport          StreamingTV  \\\n",
       "1156  No internet service  No internet service  No internet service   \n",
       "5455  No internet service  No internet service  No internet service   \n",
       "6802                   No                   No                  Yes   \n",
       "2410                   No                   No                   No   \n",
       "3404                   No                   No                   No   \n",
       "\n",
       "          StreamingMovies        Contract PaperlessBilling  \\\n",
       "1156  No internet service        Two year               No   \n",
       "5455  No internet service  Month-to-month               No   \n",
       "6802                   No  Month-to-month              Yes   \n",
       "2410                   No  Month-to-month               No   \n",
       "3404                   No        One year               No   \n",
       "\n",
       "                  PaymentMethod  MonthlyCharges TotalCharges Churn  \n",
       "1156               Mailed check           18.70       1005.7    No  \n",
       "5455    Credit card (automatic)           19.70       129.55    No  \n",
       "6802  Bank transfer (automatic)           89.10      1879.25    No  \n",
       "2410           Electronic check           80.45       3398.9    No  \n",
       "3404    Credit card (automatic)           55.60      2016.45    No  "
      ]
     },
     "execution_count": 5,
     "metadata": {},
     "output_type": "execute_result"
    }
   ],
   "source": [
    "df.sample(5)"
   ]
  },
  {
   "cell_type": "code",
   "execution_count": 6,
   "metadata": {},
   "outputs": [
    {
     "data": {
      "text/plain": [
       "(7043, 20)"
      ]
     },
     "execution_count": 6,
     "metadata": {},
     "output_type": "execute_result"
    }
   ],
   "source": [
    "df.shape"
   ]
  },
  {
   "cell_type": "code",
   "execution_count": 7,
   "metadata": {},
   "outputs": [
    {
     "data": {
      "text/plain": [
       "(7032, 20)"
      ]
     },
     "execution_count": 7,
     "metadata": {},
     "output_type": "execute_result"
    }
   ],
   "source": [
    "df1=df[df.TotalCharges!=' ']\n",
    "df1.shape"
   ]
  },
  {
   "cell_type": "code",
   "execution_count": 8,
   "metadata": {},
   "outputs": [
    {
     "name": "stderr",
     "output_type": "stream",
     "text": [
      "C:\\Users\\ARUN\\AppData\\Local\\Temp\\ipykernel_46092\\695980592.py:1: SettingWithCopyWarning: \n",
      "A value is trying to be set on a copy of a slice from a DataFrame.\n",
      "Try using .loc[row_indexer,col_indexer] = value instead\n",
      "\n",
      "See the caveats in the documentation: https://pandas.pydata.org/pandas-docs/stable/user_guide/indexing.html#returning-a-view-versus-a-copy\n",
      "  df1.TotalCharges=pd.to_numeric(df1.TotalCharges)\n"
     ]
    }
   ],
   "source": [
    "df1.TotalCharges=pd.to_numeric(df1.TotalCharges)"
   ]
  },
  {
   "cell_type": "code",
   "execution_count": 9,
   "metadata": {},
   "outputs": [
    {
     "data": {
      "text/plain": [
       "dtype('float64')"
      ]
     },
     "execution_count": 9,
     "metadata": {},
     "output_type": "execute_result"
    }
   ],
   "source": [
    "df1.TotalCharges.dtypes"
   ]
  },
  {
   "cell_type": "code",
   "execution_count": 10,
   "metadata": {},
   "outputs": [
    {
     "data": {
      "text/plain": [
       "<matplotlib.legend.Legend at 0x1f7f43679d0>"
      ]
     },
     "execution_count": 10,
     "metadata": {},
     "output_type": "execute_result"
    },
    {
     "data": {
      "image/png": "[encoded data removed]",
      "text/plain": [
       "<Figure size 640x480 with 1 Axes>"
      ]
     },
     "metadata": {},
     "output_type": "display_data"
    }
   ],
   "source": [
    "tenure_churn_no=df1[df1.Churn=='No'].tenure\n",
    "tenure_churn_yes=df1[df1.Churn=='Yes'].tenure\n",
    "\n",
    "plt.xlabel('tenure')\n",
    "plt.ylabel('number of customers')\n",
    "\n",
    "\n",
    "plt.hist([tenure_churn_yes,tenure_churn_no],label=['ChurnYes','ChurnNo'])\n",
    "plt.legend()"
   ]
  },
  {
   "cell_type": "code",
   "execution_count": 11,
   "metadata": {},
   "outputs": [],
   "source": [
    "def print_unique_col_values(df):\n",
    "    for column in df:\n",
    "        if df[column].dtypes=='object':\n",
    "            print(\" {} :  {}\".format(column,df[column].unique()))"
   ]
  },
  {
   "cell_type": "code",
   "execution_count": 12,
   "metadata": {},
   "outputs": [
    {
     "name": "stdout",
     "output_type": "stream",
     "text": [
      " gender :  ['Female' 'Male']\n",
      " Partner :  ['Yes' 'No']\n",
      " Dependents :  ['No' 'Yes']\n",
      " PhoneService :  ['No' 'Yes']\n",
      " MultipleLines :  ['No phone service' 'No' 'Yes']\n",
      " InternetService :  ['DSL' 'Fiber optic' 'No']\n",
      " OnlineSecurity :  ['No' 'Yes' 'No internet service']\n",
      " OnlineBackup :  ['Yes' 'No' 'No internet service']\n",
      " DeviceProtection :  ['No' 'Yes' 'No internet service']\n",
      " TechSupport :  ['No' 'Yes' 'No internet service']\n",
      " StreamingTV :  ['No' 'Yes' 'No internet service']\n",
      " StreamingMovies :  ['No' 'Yes' 'No internet service']\n",
      " Contract :  ['Month-to-month' 'One year' 'Two year']\n",
      " PaperlessBilling :  ['Yes' 'No']\n",
      " PaymentMethod :  ['Electronic check' 'Mailed check' 'Bank transfer (automatic)'\n",
      " 'Credit card (automatic)']\n",
      " Churn :  ['No' 'Yes']\n"
     ]
    }
   ],
   "source": [
    "print_unique_col_values(df1)"
   ]
  },
  {
   "cell_type": "code",
   "execution_count": 13,
   "metadata": {},
   "outputs": [
    {
     "name": "stderr",
     "output_type": "stream",
     "text": [
      "C:\\Users\\ARUN\\AppData\\Local\\Temp\\ipykernel_46092\\2589434152.py:1: SettingWithCopyWarning: \n",
      "A value is trying to be set on a copy of a slice from a DataFrame\n",
      "\n",
      "See the caveats in the documentation: https://pandas.pydata.org/pandas-docs/stable/user_guide/indexing.html#returning-a-view-versus-a-copy\n",
      "  df1.replace('No internet service','No',inplace=True)\n",
      "C:\\Users\\ARUN\\AppData\\Local\\Temp\\ipykernel_46092\\2589434152.py:2: SettingWithCopyWarning: \n",
      "A value is trying to be set on a copy of a slice from a DataFrame\n",
      "\n",
      "See the caveats in the documentation: https://pandas.pydata.org/pandas-docs/stable/user_guide/indexing.html#returning-a-view-versus-a-copy\n",
      "  df1.replace('No phone service','No',inplace=True)\n"
     ]
    }
   ],
   "source": [
    "df1.replace('No internet service','No',inplace=True)\n",
    "df1.replace('No phone service','No',inplace=True)\n"
   ]
  },
  {
   "cell_type": "code",
   "execution_count": 14,
   "metadata": {},
   "outputs": [
    {
     "name": "stdout",
     "output_type": "stream",
     "text": [
      " gender :  ['Female' 'Male']\n",
      " Partner :  ['Yes' 'No']\n",
      " Dependents :  ['No' 'Yes']\n",
      " PhoneService :  ['No' 'Yes']\n",
      " MultipleLines :  ['No' 'Yes']\n",
      " InternetService :  ['DSL' 'Fiber optic' 'No']\n",
      " OnlineSecurity :  ['No' 'Yes']\n",
      " OnlineBackup :  ['Yes' 'No']\n",
      " DeviceProtection :  ['No' 'Yes']\n",
      " TechSupport :  ['No' 'Yes']\n",
      " StreamingTV :  ['No' 'Yes']\n",
      " StreamingMovies :  ['No' 'Yes']\n",
      " Contract :  ['Month-to-month' 'One year' 'Two year']\n",
      " PaperlessBilling :  ['Yes' 'No']\n",
      " PaymentMethod :  ['Electronic check' 'Mailed check' 'Bank transfer (automatic)'\n",
      " 'Credit card (automatic)']\n",
      " Churn :  ['No' 'Yes']\n"
     ]
    }
   ],
   "source": [
    "print_unique_col_values(df1)"
   ]
  },
  {
   "cell_type": "code",
   "execution_count": 15,
   "metadata": {},
   "outputs": [
    {
     "name": "stderr",
     "output_type": "stream",
     "text": [
      "C:\\Users\\ARUN\\AppData\\Local\\Temp\\ipykernel_46092\\1062556104.py:3: SettingWithCopyWarning: \n",
      "A value is trying to be set on a copy of a slice from a DataFrame\n",
      "\n",
      "See the caveats in the documentation: https://pandas.pydata.org/pandas-docs/stable/user_guide/indexing.html#returning-a-view-versus-a-copy\n",
      "  df1[col].replace({'Yes':1,'No':0},inplace=True)\n"
     ]
    }
   ],
   "source": [
    "yes_no_columns=['Partner','Dependents','PhoneService','MultipleLines','OnlineSecurity','OnlineBackup','DeviceProtection','TechSupport','StreamingTV','StreamingMovies','PaperlessBilling','Churn']\n",
    "for col in yes_no_columns:\n",
    "    df1[col].replace({'Yes':1,'No':0},inplace=True)\n",
    "    "
   ]
  },
  {
   "cell_type": "code",
   "execution_count": 16,
   "metadata": {},
   "outputs": [
    {
     "name": "stdout",
     "output_type": "stream",
     "text": [
      "gender : ['Female' 'Male']\n",
      "SeniorCitizen : [0 1]\n",
      "Partner : [1 0]\n",
      "Dependents : [0 1]\n",
      "tenure : [ 1 34  2 45  8 22 10 28 62 13 16 58 49 25 69 52 71 21 12 30 47 72 17 27\n",
      "  5 46 11 70 63 43 15 60 18 66  9  3 31 50 64 56  7 42 35 48 29 65 38 68\n",
      " 32 55 37 36 41  6  4 33 67 23 57 61 14 20 53 40 59 24 44 19 54 51 26 39]\n",
      "PhoneService : [0 1]\n",
      "MultipleLines : [0 1]\n",
      "InternetService : ['DSL' 'Fiber optic' 'No']\n",
      "OnlineSecurity : [0 1]\n",
      "OnlineBackup : [1 0]\n",
      "DeviceProtection : [0 1]\n",
      "TechSupport : [0 1]\n",
      "StreamingTV : [0 1]\n",
      "StreamingMovies : [0 1]\n",
      "Contract : ['Month-to-month' 'One year' 'Two year']\n",
      "PaperlessBilling : [1 0]\n",
      "PaymentMethod : ['Electronic check' 'Mailed check' 'Bank transfer (automatic)'\n",
      " 'Credit card (automatic)']\n",
      "MonthlyCharges : [29.85 56.95 53.85 ... 63.1  44.2  78.7 ]\n",
      "TotalCharges : [  29.85 1889.5   108.15 ...  346.45  306.6  6844.5 ]\n",
      "Churn : [0 1]\n"
     ]
    }
   ],
   "source": [
    "for col in df1:\n",
    "    print(\"{} : {}\".format(col,df1[col].unique()))"
   ]
  },
  {
   "cell_type": "code",
   "execution_count": 17,
   "metadata": {},
   "outputs": [
    {
     "name": "stderr",
     "output_type": "stream",
     "text": [
      "C:\\Users\\ARUN\\AppData\\Local\\Temp\\ipykernel_46092\\698335744.py:1: SettingWithCopyWarning: \n",
      "A value is trying to be set on a copy of a slice from a DataFrame\n",
      "\n",
      "See the caveats in the documentation: https://pandas.pydata.org/pandas-docs/stable/user_guide/indexing.html#returning-a-view-versus-a-copy\n",
      "  df1['gender'].replace({'Female':1,'Male':0},inplace=True)\n"
     ]
    }
   ],
   "source": [
    "df1['gender'].replace({'Female':1,'Male':0},inplace=True)"
   ]
  },
  {
   "cell_type": "code",
   "execution_count": 18,
   "metadata": {},
   "outputs": [
    {
     "data": {
      "text/plain": [
       "array([1, 0], dtype=int64)"
      ]
     },
     "execution_count": 18,
     "metadata": {},
     "output_type": "execute_result"
    }
   ],
   "source": [
    "df1['gender'].unique()"
   ]
  },
  {
   "cell_type": "code",
   "execution_count": 19,
   "metadata": {},
   "outputs": [
    {
     "data": {
      "text/plain": [
       "Index(['gender', 'SeniorCitizen', 'Partner', 'Dependents', 'tenure',\n",
       "       'PhoneService', 'MultipleLines', 'OnlineSecurity', 'OnlineBackup',\n",
       "       'DeviceProtection', 'TechSupport', 'StreamingTV', 'StreamingMovies',\n",
       "       'PaperlessBilling', 'MonthlyCharges', 'TotalCharges', 'Churn',\n",
       "       'InternetService_DSL', 'InternetService_Fiber optic',\n",
       "       'InternetService_No', 'Contract_Month-to-month', 'Contract_One year',\n",
       "       'Contract_Two year', 'PaymentMethod_Bank transfer (automatic)',\n",
       "       'PaymentMethod_Credit card (automatic)',\n",
       "       'PaymentMethod_Electronic check', 'PaymentMethod_Mailed check'],\n",
       "      dtype='object')"
      ]
     },
     "execution_count": 19,
     "metadata": {},
     "output_type": "execute_result"
    }
   ],
   "source": [
    "df2=pd.get_dummies(data=df1,columns=['InternetService','Contract','PaymentMethod'])\n",
    "df2.columns"
   ]
  },
  {
   "cell_type": "code",
   "execution_count": 20,
   "metadata": {},
   "outputs": [],
   "source": [
    "cols_to_scale=['tenure','MonthlyCharges','TotalCharges']\n",
    "\n",
    "from sklearn.preprocessing import MinMaxScaler\n",
    "scaler=MinMaxScaler()\n",
    "\n",
    "df2[cols_to_scale]=scaler.fit_transform(df2[cols_to_scale])\n"
   ]
  },
  {
   "cell_type": "code",
   "execution_count": 21,
   "metadata": {},
   "outputs": [
    {
     "data": {
      "text/html": [
       "<div>\n",
       "<style scoped>\n",
       "    .dataframe tbody tr th:only-of-type {\n",
       "        vertical-align: middle;\n",
       "    }\n",
       "\n",
       "    .dataframe tbody tr th {\n",
       "        vertical-align: top;\n",
       "    }\n",
       "\n",
       "    .dataframe thead th {\n",
       "        text-align: right;\n",
       "    }\n",
       "</style>\n",
       "<table border=\"1\" class=\"dataframe\">\n",
       "  <thead>\n",
       "    <tr style=\"text-align: right;\">\n",
       "      <th></th>\n",
       "      <th>gender</th>\n",
       "      <th>SeniorCitizen</th>\n",
       "      <th>Partner</th>\n",
       "      <th>Dependents</th>\n",
       "      <th>tenure</th>\n",
       "      <th>PhoneService</th>\n",
       "      <th>MultipleLines</th>\n",
       "      <th>OnlineSecurity</th>\n",
       "      <th>OnlineBackup</th>\n",
       "      <th>DeviceProtection</th>\n",
       "      <th>...</th>\n",
       "      <th>InternetService_DSL</th>\n",
       "      <th>InternetService_Fiber optic</th>\n",
       "      <th>InternetService_No</th>\n",
       "      <th>Contract_Month-to-month</th>\n",
       "      <th>Contract_One year</th>\n",
       "      <th>Contract_Two year</th>\n",
       "      <th>PaymentMethod_Bank transfer (automatic)</th>\n",
       "      <th>PaymentMethod_Credit card (automatic)</th>\n",
       "      <th>PaymentMethod_Electronic check</th>\n",
       "      <th>PaymentMethod_Mailed check</th>\n",
       "    </tr>\n",
       "  </thead>\n",
       "  <tbody>\n",
       "    <tr>\n",
       "      <th>957</th>\n",
       "      <td>0</td>\n",
       "      <td>0</td>\n",
       "      <td>0</td>\n",
       "      <td>0</td>\n",
       "      <td>0.042254</td>\n",
       "      <td>1</td>\n",
       "      <td>0</td>\n",
       "      <td>1</td>\n",
       "      <td>0</td>\n",
       "      <td>1</td>\n",
       "      <td>...</td>\n",
       "      <td>1</td>\n",
       "      <td>0</td>\n",
       "      <td>0</td>\n",
       "      <td>1</td>\n",
       "      <td>0</td>\n",
       "      <td>0</td>\n",
       "      <td>0</td>\n",
       "      <td>0</td>\n",
       "      <td>1</td>\n",
       "      <td>0</td>\n",
       "    </tr>\n",
       "    <tr>\n",
       "      <th>3458</th>\n",
       "      <td>1</td>\n",
       "      <td>0</td>\n",
       "      <td>0</td>\n",
       "      <td>0</td>\n",
       "      <td>0.352113</td>\n",
       "      <td>1</td>\n",
       "      <td>0</td>\n",
       "      <td>0</td>\n",
       "      <td>0</td>\n",
       "      <td>0</td>\n",
       "      <td>...</td>\n",
       "      <td>0</td>\n",
       "      <td>1</td>\n",
       "      <td>0</td>\n",
       "      <td>1</td>\n",
       "      <td>0</td>\n",
       "      <td>0</td>\n",
       "      <td>1</td>\n",
       "      <td>0</td>\n",
       "      <td>0</td>\n",
       "      <td>0</td>\n",
       "    </tr>\n",
       "    <tr>\n",
       "      <th>3631</th>\n",
       "      <td>1</td>\n",
       "      <td>1</td>\n",
       "      <td>1</td>\n",
       "      <td>0</td>\n",
       "      <td>0.000000</td>\n",
       "      <td>1</td>\n",
       "      <td>0</td>\n",
       "      <td>1</td>\n",
       "      <td>0</td>\n",
       "      <td>0</td>\n",
       "      <td>...</td>\n",
       "      <td>1</td>\n",
       "      <td>0</td>\n",
       "      <td>0</td>\n",
       "      <td>1</td>\n",
       "      <td>0</td>\n",
       "      <td>0</td>\n",
       "      <td>0</td>\n",
       "      <td>0</td>\n",
       "      <td>1</td>\n",
       "      <td>0</td>\n",
       "    </tr>\n",
       "    <tr>\n",
       "      <th>1768</th>\n",
       "      <td>1</td>\n",
       "      <td>0</td>\n",
       "      <td>0</td>\n",
       "      <td>0</td>\n",
       "      <td>0.873239</td>\n",
       "      <td>1</td>\n",
       "      <td>0</td>\n",
       "      <td>0</td>\n",
       "      <td>0</td>\n",
       "      <td>1</td>\n",
       "      <td>...</td>\n",
       "      <td>1</td>\n",
       "      <td>0</td>\n",
       "      <td>0</td>\n",
       "      <td>0</td>\n",
       "      <td>1</td>\n",
       "      <td>0</td>\n",
       "      <td>0</td>\n",
       "      <td>1</td>\n",
       "      <td>0</td>\n",
       "      <td>0</td>\n",
       "    </tr>\n",
       "    <tr>\n",
       "      <th>4848</th>\n",
       "      <td>1</td>\n",
       "      <td>0</td>\n",
       "      <td>0</td>\n",
       "      <td>0</td>\n",
       "      <td>0.056338</td>\n",
       "      <td>1</td>\n",
       "      <td>1</td>\n",
       "      <td>0</td>\n",
       "      <td>0</td>\n",
       "      <td>0</td>\n",
       "      <td>...</td>\n",
       "      <td>0</td>\n",
       "      <td>1</td>\n",
       "      <td>0</td>\n",
       "      <td>1</td>\n",
       "      <td>0</td>\n",
       "      <td>0</td>\n",
       "      <td>0</td>\n",
       "      <td>0</td>\n",
       "      <td>0</td>\n",
       "      <td>1</td>\n",
       "    </tr>\n",
       "  </tbody>\n",
       "</table>\n",
       "<p>5 rows × 27 columns</p>\n",
       "</div>"
      ],
      "text/plain": [
       "      gender  SeniorCitizen  Partner  Dependents    tenure  PhoneService  \\\n",
       "957        0              0        0           0  0.042254             1   \n",
       "3458       1              0        0           0  0.352113             1   \n",
       "3631       1              1        1           0  0.000000             1   \n",
       "1768       1              0        0           0  0.873239             1   \n",
       "4848       1              0        0           0  0.056338             1   \n",
       "\n",
       "      MultipleLines  OnlineSecurity  OnlineBackup  DeviceProtection  ...  \\\n",
       "957               0               1             0                 1  ...   \n",
       "3458              0               0             0                 0  ...   \n",
       "3631              0               1             0                 0  ...   \n",
       "1768              0               0             0                 1  ...   \n",
       "4848              1               0             0                 0  ...   \n",
       "\n",
       "      InternetService_DSL  InternetService_Fiber optic  InternetService_No  \\\n",
       "957                     1                            0                   0   \n",
       "3458                    0                            1                   0   \n",
       "3631                    1                            0                   0   \n",
       "1768                    1                            0                   0   \n",
       "4848                    0                            1                   0   \n",
       "\n",
       "      Contract_Month-to-month  Contract_One year  Contract_Two year  \\\n",
       "957                         1                  0                  0   \n",
       "3458                        1                  0                  0   \n",
       "3631                        1                  0                  0   \n",
       "1768                        0                  1                  0   \n",
       "4848                        1                  0                  0   \n",
       "\n",
       "      PaymentMethod_Bank transfer (automatic)  \\\n",
       "957                                         0   \n",
       "3458                                        1   \n",
       "3631                                        0   \n",
       "1768                                        0   \n",
       "4848                                        0   \n",
       "\n",
       "      PaymentMethod_Credit card (automatic)  PaymentMethod_Electronic check  \\\n",
       "957                                       0                               1   \n",
       "3458                                      0                               0   \n",
       "3631                                      0                               1   \n",
       "1768                                      1                               0   \n",
       "4848                                      0                               0   \n",
       "\n",
       "      PaymentMethod_Mailed check  \n",
       "957                            0  \n",
       "3458                           0  \n",
       "3631                           0  \n",
       "1768                           0  \n",
       "4848                           1  \n",
       "\n",
       "[5 rows x 27 columns]"
      ]
     },
     "execution_count": 21,
     "metadata": {},
     "output_type": "execute_result"
    }
   ],
   "source": [
    "df2.sample(5)"
   ]
  },
  {
   "cell_type": "code",
   "execution_count": 22,
   "metadata": {},
   "outputs": [],
   "source": [
    "x=df2.drop('Churn',axis='columns')\n",
    "y=df2['Churn']"
   ]
  },
  {
   "cell_type": "code",
   "execution_count": 23,
   "metadata": {},
   "outputs": [],
   "source": [
    "from sklearn.model_selection import train_test_split\n",
    "X_train,X_test,y_train,y_test=train_test_split(x,y,test_size=0.2,random_state=5)\n"
   ]
  },
  {
   "cell_type": "code",
   "execution_count": 24,
   "metadata": {},
   "outputs": [
    {
     "data": {
      "text/plain": [
       "(5625, 26)"
      ]
     },
     "execution_count": 24,
     "metadata": {},
     "output_type": "execute_result"
    }
   ],
   "source": [
    "X_train.shape"
   ]
  },
  {
   "cell_type": "code",
   "execution_count": 25,
   "metadata": {},
   "outputs": [
    {
     "name": "stdout",
     "output_type": "stream",
     "text": [
      "Epoch 1/100\n",
      "176/176 [==============================] - 1s 1ms/step - loss: 0.5380 - accuracy: 0.7276\n",
      "Epoch 2/100\n",
      "176/176 [==============================] - 0s 1ms/step - loss: 0.4322 - accuracy: 0.7980\n",
      "Epoch 3/100\n",
      "176/176 [==============================] - 0s 1ms/step - loss: 0.4229 - accuracy: 0.8028\n",
      "Epoch 4/100\n",
      "176/176 [==============================] - 0s 1ms/step - loss: 0.4180 - accuracy: 0.8043\n",
      "Epoch 5/100\n",
      "176/176 [==============================] - 0s 1ms/step - loss: 0.4155 - accuracy: 0.8057\n",
      "Epoch 6/100\n",
      "176/176 [==============================] - 0s 1ms/step - loss: 0.4136 - accuracy: 0.8055\n",
      "Epoch 7/100\n",
      "176/176 [==============================] - 0s 987us/step - loss: 0.4132 - accuracy: 0.8075\n",
      "Epoch 8/100\n",
      "176/176 [==============================] - 0s 988us/step - loss: 0.4127 - accuracy: 0.8057\n",
      "Epoch 9/100\n",
      "176/176 [==============================] - 0s 1ms/step - loss: 0.4111 - accuracy: 0.8059\n",
      "Epoch 10/100\n",
      "176/176 [==============================] - 0s 1ms/step - loss: 0.4107 - accuracy: 0.8084\n",
      "Epoch 11/100\n",
      "176/176 [==============================] - 0s 984us/step - loss: 0.4100 - accuracy: 0.8078\n",
      "Epoch 12/100\n",
      "176/176 [==============================] - 0s 1ms/step - loss: 0.4092 - accuracy: 0.8089\n",
      "Epoch 13/100\n",
      "176/176 [==============================] - 0s 1ms/step - loss: 0.4085 - accuracy: 0.8108\n",
      "Epoch 14/100\n",
      "176/176 [==============================] - 0s 1ms/step - loss: 0.4082 - accuracy: 0.8092\n",
      "Epoch 15/100\n",
      "176/176 [==============================] - 0s 1ms/step - loss: 0.4078 - accuracy: 0.8092\n",
      "Epoch 16/100\n",
      "176/176 [==============================] - 0s 1ms/step - loss: 0.4066 - accuracy: 0.8064\n",
      "Epoch 17/100\n",
      "176/176 [==============================] - 0s 1ms/step - loss: 0.4064 - accuracy: 0.8100\n",
      "Epoch 18/100\n",
      "176/176 [==============================] - 0s 1ms/step - loss: 0.4058 - accuracy: 0.8089\n",
      "Epoch 19/100\n",
      "176/176 [==============================] - 0s 1ms/step - loss: 0.4055 - accuracy: 0.8091\n",
      "Epoch 20/100\n",
      "176/176 [==============================] - 0s 1ms/step - loss: 0.4046 - accuracy: 0.8087\n",
      "Epoch 21/100\n",
      "176/176 [==============================] - 0s 1ms/step - loss: 0.4042 - accuracy: 0.8105\n",
      "Epoch 22/100\n",
      "176/176 [==============================] - 0s 1ms/step - loss: 0.4037 - accuracy: 0.8117\n",
      "Epoch 23/100\n",
      "176/176 [==============================] - 0s 1ms/step - loss: 0.4039 - accuracy: 0.8085\n",
      "Epoch 24/100\n",
      "176/176 [==============================] - 0s 1ms/step - loss: 0.4029 - accuracy: 0.8128\n",
      "Epoch 25/100\n",
      "176/176 [==============================] - 0s 1ms/step - loss: 0.4025 - accuracy: 0.8085\n",
      "Epoch 26/100\n",
      "176/176 [==============================] - 0s 1ms/step - loss: 0.4020 - accuracy: 0.8139\n",
      "Epoch 27/100\n",
      "176/176 [==============================] - 0s 1ms/step - loss: 0.4018 - accuracy: 0.8116\n",
      "Epoch 28/100\n",
      "176/176 [==============================] - 0s 1ms/step - loss: 0.4013 - accuracy: 0.8101\n",
      "Epoch 29/100\n",
      "176/176 [==============================] - 0s 1ms/step - loss: 0.4009 - accuracy: 0.8114\n",
      "Epoch 30/100\n",
      "176/176 [==============================] - 0s 1ms/step - loss: 0.4005 - accuracy: 0.8135\n",
      "Epoch 31/100\n",
      "176/176 [==============================] - 0s 1ms/step - loss: 0.4002 - accuracy: 0.8132\n",
      "Epoch 32/100\n",
      "176/176 [==============================] - 0s 1ms/step - loss: 0.3998 - accuracy: 0.8121\n",
      "Epoch 33/100\n",
      "176/176 [==============================] - 0s 1ms/step - loss: 0.3994 - accuracy: 0.8124\n",
      "Epoch 34/100\n",
      "176/176 [==============================] - 0s 1ms/step - loss: 0.3991 - accuracy: 0.8110\n",
      "Epoch 35/100\n",
      "176/176 [==============================] - 0s 1ms/step - loss: 0.3992 - accuracy: 0.8128\n",
      "Epoch 36/100\n",
      "176/176 [==============================] - 0s 1ms/step - loss: 0.3981 - accuracy: 0.8135\n",
      "Epoch 37/100\n",
      "176/176 [==============================] - 0s 1ms/step - loss: 0.3980 - accuracy: 0.8151\n",
      "Epoch 38/100\n",
      "176/176 [==============================] - 0s 1ms/step - loss: 0.3976 - accuracy: 0.8155\n",
      "Epoch 39/100\n",
      "176/176 [==============================] - 0s 1ms/step - loss: 0.3981 - accuracy: 0.8137\n",
      "Epoch 40/100\n",
      "176/176 [==============================] - 0s 1ms/step - loss: 0.3961 - accuracy: 0.8155\n",
      "Epoch 41/100\n",
      "176/176 [==============================] - 0s 1ms/step - loss: 0.3959 - accuracy: 0.8153\n",
      "Epoch 42/100\n",
      "176/176 [==============================] - 0s 1ms/step - loss: 0.3955 - accuracy: 0.8148\n",
      "Epoch 43/100\n",
      "176/176 [==============================] - 0s 1ms/step - loss: 0.3956 - accuracy: 0.8171\n",
      "Epoch 44/100\n",
      "176/176 [==============================] - 0s 1ms/step - loss: 0.3949 - accuracy: 0.8176\n",
      "Epoch 45/100\n",
      "176/176 [==============================] - 0s 1ms/step - loss: 0.3952 - accuracy: 0.8149\n",
      "Epoch 46/100\n",
      "176/176 [==============================] - 0s 1ms/step - loss: 0.3939 - accuracy: 0.8160\n",
      "Epoch 47/100\n",
      "176/176 [==============================] - 0s 1ms/step - loss: 0.3944 - accuracy: 0.8185\n",
      "Epoch 48/100\n",
      "176/176 [==============================] - 0s 1ms/step - loss: 0.3942 - accuracy: 0.8162\n",
      "Epoch 49/100\n",
      "176/176 [==============================] - 0s 1ms/step - loss: 0.3934 - accuracy: 0.8164\n",
      "Epoch 50/100\n",
      "176/176 [==============================] - 0s 1ms/step - loss: 0.3930 - accuracy: 0.8169\n",
      "Epoch 51/100\n",
      "176/176 [==============================] - 0s 1ms/step - loss: 0.3932 - accuracy: 0.8155\n",
      "Epoch 52/100\n",
      "176/176 [==============================] - 0s 1ms/step - loss: 0.3919 - accuracy: 0.8181\n",
      "Epoch 53/100\n",
      "176/176 [==============================] - 0s 1ms/step - loss: 0.3922 - accuracy: 0.8194\n",
      "Epoch 54/100\n",
      "176/176 [==============================] - 0s 1ms/step - loss: 0.3916 - accuracy: 0.8199\n",
      "Epoch 55/100\n",
      "176/176 [==============================] - 0s 1ms/step - loss: 0.3913 - accuracy: 0.8169\n",
      "Epoch 56/100\n",
      "176/176 [==============================] - 0s 2ms/step - loss: 0.3918 - accuracy: 0.8196\n",
      "Epoch 57/100\n",
      "176/176 [==============================] - 0s 1ms/step - loss: 0.3909 - accuracy: 0.8178\n",
      "Epoch 58/100\n",
      "176/176 [==============================] - 0s 1ms/step - loss: 0.3907 - accuracy: 0.8190\n",
      "Epoch 59/100\n",
      "176/176 [==============================] - 0s 1ms/step - loss: 0.3906 - accuracy: 0.8162\n",
      "Epoch 60/100\n",
      "176/176 [==============================] - 0s 1ms/step - loss: 0.3902 - accuracy: 0.8196\n",
      "Epoch 61/100\n",
      "176/176 [==============================] - 0s 1ms/step - loss: 0.3902 - accuracy: 0.8190\n",
      "Epoch 62/100\n",
      "176/176 [==============================] - 0s 1ms/step - loss: 0.3900 - accuracy: 0.8176\n",
      "Epoch 63/100\n",
      "176/176 [==============================] - 0s 1ms/step - loss: 0.3897 - accuracy: 0.8178\n",
      "Epoch 64/100\n",
      "176/176 [==============================] - 0s 1ms/step - loss: 0.3898 - accuracy: 0.8187\n",
      "Epoch 65/100\n",
      "176/176 [==============================] - 0s 1ms/step - loss: 0.3890 - accuracy: 0.8190\n",
      "Epoch 66/100\n",
      "176/176 [==============================] - 0s 1ms/step - loss: 0.3890 - accuracy: 0.8215\n",
      "Epoch 67/100\n",
      "176/176 [==============================] - 0s 1ms/step - loss: 0.3889 - accuracy: 0.8206\n",
      "Epoch 68/100\n",
      "176/176 [==============================] - 0s 1ms/step - loss: 0.3884 - accuracy: 0.8180\n",
      "Epoch 69/100\n",
      "176/176 [==============================] - 0s 1ms/step - loss: 0.3885 - accuracy: 0.8213\n",
      "Epoch 70/100\n",
      "176/176 [==============================] - 0s 1ms/step - loss: 0.3886 - accuracy: 0.8192\n",
      "Epoch 71/100\n",
      "176/176 [==============================] - 0s 1ms/step - loss: 0.3877 - accuracy: 0.8181\n",
      "Epoch 72/100\n",
      "176/176 [==============================] - 0s 1ms/step - loss: 0.3880 - accuracy: 0.8204\n",
      "Epoch 73/100\n",
      "176/176 [==============================] - 0s 1ms/step - loss: 0.3871 - accuracy: 0.8188\n",
      "Epoch 74/100\n",
      "176/176 [==============================] - 0s 1ms/step - loss: 0.3877 - accuracy: 0.8204\n",
      "Epoch 75/100\n",
      "176/176 [==============================] - 0s 1ms/step - loss: 0.3876 - accuracy: 0.8174\n",
      "Epoch 76/100\n",
      "176/176 [==============================] - 0s 1ms/step - loss: 0.3870 - accuracy: 0.8219\n",
      "Epoch 77/100\n",
      "176/176 [==============================] - 0s 1ms/step - loss: 0.3868 - accuracy: 0.8194\n",
      "Epoch 78/100\n",
      "176/176 [==============================] - 0s 2ms/step - loss: 0.3865 - accuracy: 0.8201\n",
      "Epoch 79/100\n",
      "176/176 [==============================] - 0s 2ms/step - loss: 0.3866 - accuracy: 0.8176\n",
      "Epoch 80/100\n",
      "176/176 [==============================] - 0s 2ms/step - loss: 0.3864 - accuracy: 0.8215\n",
      "Epoch 81/100\n",
      "176/176 [==============================] - 0s 1ms/step - loss: 0.3865 - accuracy: 0.8188\n",
      "Epoch 82/100\n",
      "176/176 [==============================] - 0s 1ms/step - loss: 0.3866 - accuracy: 0.8208\n",
      "Epoch 83/100\n",
      "176/176 [==============================] - 0s 1ms/step - loss: 0.3863 - accuracy: 0.8181\n",
      "Epoch 84/100\n",
      "176/176 [==============================] - 0s 1ms/step - loss: 0.3859 - accuracy: 0.8224\n",
      "Epoch 85/100\n",
      "176/176 [==============================] - 0s 1ms/step - loss: 0.3852 - accuracy: 0.8196\n",
      "Epoch 86/100\n",
      "176/176 [==============================] - 0s 1ms/step - loss: 0.3857 - accuracy: 0.8180\n",
      "Epoch 87/100\n",
      "176/176 [==============================] - 0s 1ms/step - loss: 0.3848 - accuracy: 0.8201\n",
      "Epoch 88/100\n",
      "176/176 [==============================] - 0s 1ms/step - loss: 0.3853 - accuracy: 0.8208\n",
      "Epoch 89/100\n",
      "176/176 [==============================] - 0s 1ms/step - loss: 0.3844 - accuracy: 0.8210\n",
      "Epoch 90/100\n",
      "176/176 [==============================] - 0s 1ms/step - loss: 0.3848 - accuracy: 0.8187\n",
      "Epoch 91/100\n",
      "176/176 [==============================] - 0s 2ms/step - loss: 0.3838 - accuracy: 0.8210\n",
      "Epoch 92/100\n",
      "176/176 [==============================] - 0s 1ms/step - loss: 0.3848 - accuracy: 0.8210\n",
      "Epoch 93/100\n",
      "176/176 [==============================] - 0s 1ms/step - loss: 0.3835 - accuracy: 0.8212\n",
      "Epoch 94/100\n",
      "176/176 [==============================] - 0s 1ms/step - loss: 0.3828 - accuracy: 0.8213\n",
      "Epoch 95/100\n",
      "176/176 [==============================] - 0s 1ms/step - loss: 0.3835 - accuracy: 0.8229\n",
      "Epoch 96/100\n",
      "176/176 [==============================] - 0s 1ms/step - loss: 0.3836 - accuracy: 0.8196\n",
      "Epoch 97/100\n",
      "176/176 [==============================] - 0s 1ms/step - loss: 0.3831 - accuracy: 0.8213\n",
      "Epoch 98/100\n",
      "176/176 [==============================] - 0s 1ms/step - loss: 0.3829 - accuracy: 0.8210\n",
      "Epoch 99/100\n",
      "176/176 [==============================] - 0s 1ms/step - loss: 0.3834 - accuracy: 0.8212\n",
      "Epoch 100/100\n",
      "176/176 [==============================] - 0s 1ms/step - loss: 0.3828 - accuracy: 0.8224\n"
     ]
    },
    {
     "data": {
      "text/plain": [
       "<keras.callbacks.History at 0x1f7f81e7e20>"
      ]
     },
     "execution_count": 25,
     "metadata": {},
     "output_type": "execute_result"
    }
   ],
   "source": [
    "import tensorflow as tf\n",
    "from tensorflow import keras\n",
    "\n",
    "model=keras.Sequential([keras.layers.Dense(20,input_shape=(26,),activation='relu'),keras.layers.Dense(1,activation='sigmoid')])\n",
    "\n",
    "model.compile(optimizer='adam',loss='binary_crossentropy',metrics=['accuracy'])\n",
    "\n",
    "model.fit(X_train,y_train,epochs=100)"
   ]
  },
  {
   "cell_type": "code",
   "execution_count": 26,
   "metadata": {},
   "outputs": [
    {
     "name": "stdout",
     "output_type": "stream",
     "text": [
      "44/44 [==============================] - 0s 1ms/step - loss: 0.4447 - accuracy: 0.7896\n"
     ]
    },
    {
     "data": {
      "text/plain": [
       "[0.44471412897109985, 0.7896233201026917]"
      ]
     },
     "execution_count": 26,
     "metadata": {},
     "output_type": "execute_result"
    }
   ],
   "source": [
    "model.evaluate(X_test,y_test)"
   ]
  },
  {
   "cell_type": "code",
   "execution_count": 27,
   "metadata": {},
   "outputs": [
    {
     "name": "stdout",
     "output_type": "stream",
     "text": [
      "44/44 [==============================] - 0s 914us/step\n"
     ]
    }
   ],
   "source": [
    "yp=model.predict(X_test)"
   ]
  },
  {
   "cell_type": "code",
   "execution_count": 28,
   "metadata": {},
   "outputs": [],
   "source": [
    "y_pred=[]\n",
    "for i in yp:\n",
    "    if i>0.5:\n",
    "        y_pred.append(1)\n",
    "    else:\n",
    "        y_pred.append(0)"
   ]
  },
  {
   "cell_type": "code",
   "execution_count": 29,
   "metadata": {},
   "outputs": [
    {
     "data": {
      "text/plain": [
       "[0, 1, 0, 1, 1, 1, 0, 1, 0, 0]"
      ]
     },
     "execution_count": 29,
     "metadata": {},
     "output_type": "execute_result"
    }
   ],
   "source": [
    "y_pred[:10]"
   ]
  },
  {
   "cell_type": "code",
   "execution_count": 30,
   "metadata": {},
   "outputs": [
    {
     "name": "stdout",
     "output_type": "stream",
     "text": [
      "              precision    recall  f1-score   support\n",
      "\n",
      "           0       0.83      0.88      0.86       999\n",
      "           1       0.66      0.56      0.61       408\n",
      "\n",
      "    accuracy                           0.79      1407\n",
      "   macro avg       0.75      0.72      0.73      1407\n",
      "weighted avg       0.78      0.79      0.78      1407\n",
      "\n"
     ]
    }
   ],
   "source": [
    "from sklearn.metrics import confusion_matrix,classification_report\n",
    "\n",
    "print(classification_report(y_test,y_pred))\n"
   ]
  },
  {
   "cell_type": "code",
   "execution_count": 31,
   "metadata": {},
   "outputs": [
    {
     "data": {
      "text/plain": [
       "Text(95.72222222222221, 0.5, 'Truth')"
      ]
     },
     "execution_count": 31,
     "metadata": {},
     "output_type": "execute_result"
    },
    {
     "data": {
      "image/png": "[encoded data removed]",
      "text/plain": [
       "<Figure size 1000x700 with 2 Axes>"
      ]
     },
     "metadata": {},
     "output_type": "display_data"
    }
   ],
   "source": [
    "import seaborn as sn\n",
    "cm=tf.math.confusion_matrix(labels=y_test,predictions=y_pred)\n",
    "plt.figure(figsize=(10,7))\n",
    "sn.heatmap(cm,annot=True,fmt='d')\n",
    "plt.xlabel('Predicted')\n",
    "plt.ylabel('Truth')\n"
   ]
  },
  {
   "cell_type": "code",
   "execution_count": 32,
   "metadata": {},
   "outputs": [
    {
     "data": {
      "text/plain": [
       "0    5163\n",
       "1    1869\n",
       "Name: Churn, dtype: int64"
      ]
     },
     "execution_count": 32,
     "metadata": {},
     "output_type": "execute_result"
    }
   ],
   "source": [
    "y.value_counts()"
   ]
  },
  {
   "cell_type": "code",
   "execution_count": 37,
   "metadata": {},
   "outputs": [
    {
     "data": {
      "text/plain": [
       "0    5163\n",
       "1    5163\n",
       "Name: Churn, dtype: int64"
      ]
     },
     "execution_count": 37,
     "metadata": {},
     "output_type": "execute_result"
    }
   ],
   "source": [
    "from imblearn.over_sampling import SMOTE\n",
    "smote=SMOTE(sampling_strategy='minority')\n",
    "\n",
    "x_sm, y_sm=smote.fit_resample(x,y)\n",
    "\n",
    "y_sm.value_counts()"
   ]
  },
  {
   "cell_type": "code",
   "execution_count": 38,
   "metadata": {},
   "outputs": [],
   "source": [
    "from sklearn.model_selection import train_test_split\n",
    "X_train,X_test,y_train,y_test=train_test_split(x_sm,y_sm,test_size=0.2,random_state=15,stratify=y_sm)\n",
    "\n"
   ]
  },
  {
   "cell_type": "code",
   "execution_count": 39,
   "metadata": {},
   "outputs": [
    {
     "data": {
      "text/plain": [
       "1    4130\n",
       "0    4130\n",
       "Name: Churn, dtype: int64"
      ]
     },
     "execution_count": 39,
     "metadata": {},
     "output_type": "execute_result"
    }
   ],
   "source": [
    "y_train.value_counts()"
   ]
  },
  {
   "cell_type": "code",
   "execution_count": 40,
   "metadata": {},
   "outputs": [
    {
     "name": "stdout",
     "output_type": "stream",
     "text": [
      "Epoch 1/100\n",
      "323/323 [==============================] - 2s 2ms/step - loss: 0.5166 - accuracy: 0.7443\n",
      "Epoch 2/100\n",
      "323/323 [==============================] - 1s 2ms/step - loss: 0.4739 - accuracy: 0.7726\n",
      "Epoch 3/100\n",
      "323/323 [==============================] - 1s 2ms/step - loss: 0.4662 - accuracy: 0.7788\n",
      "Epoch 4/100\n",
      "323/323 [==============================] - 1s 2ms/step - loss: 0.4624 - accuracy: 0.7809\n",
      "Epoch 5/100\n",
      "323/323 [==============================] - 1s 2ms/step - loss: 0.4596 - accuracy: 0.7823\n",
      "Epoch 6/100\n",
      "323/323 [==============================] - 1s 2ms/step - loss: 0.4565 - accuracy: 0.7821\n",
      "Epoch 7/100\n",
      "323/323 [==============================] - 1s 3ms/step - loss: 0.4543 - accuracy: 0.7847\n",
      "Epoch 8/100\n",
      "323/323 [==============================] - 1s 3ms/step - loss: 0.4522 - accuracy: 0.7868\n",
      "Epoch 9/100\n",
      "323/323 [==============================] - 1s 2ms/step - loss: 0.4490 - accuracy: 0.7889\n",
      "Epoch 10/100\n",
      "323/323 [==============================] - 1s 2ms/step - loss: 0.4473 - accuracy: 0.7888\n",
      "Epoch 11/100\n",
      "323/323 [==============================] - 1s 2ms/step - loss: 0.4450 - accuracy: 0.7915\n",
      "Epoch 12/100\n",
      "323/323 [==============================] - 1s 2ms/step - loss: 0.4423 - accuracy: 0.7898\n",
      "Epoch 13/100\n",
      "323/323 [==============================] - 1s 2ms/step - loss: 0.4402 - accuracy: 0.7924\n",
      "Epoch 14/100\n",
      "323/323 [==============================] - 1s 2ms/step - loss: 0.4383 - accuracy: 0.7934\n",
      "Epoch 15/100\n",
      "323/323 [==============================] - 1s 2ms/step - loss: 0.4361 - accuracy: 0.7927\n",
      "Epoch 16/100\n",
      "323/323 [==============================] - 1s 2ms/step - loss: 0.4340 - accuracy: 0.7968\n",
      "Epoch 17/100\n",
      "323/323 [==============================] - 1s 2ms/step - loss: 0.4318 - accuracy: 0.7971\n",
      "Epoch 18/100\n",
      "323/323 [==============================] - 1s 2ms/step - loss: 0.4295 - accuracy: 0.7977\n",
      "Epoch 19/100\n",
      "323/323 [==============================] - 1s 2ms/step - loss: 0.4280 - accuracy: 0.7974\n",
      "Epoch 20/100\n",
      "323/323 [==============================] - 1s 2ms/step - loss: 0.4266 - accuracy: 0.8006\n",
      "Epoch 21/100\n",
      "323/323 [==============================] - 1s 2ms/step - loss: 0.4241 - accuracy: 0.7997\n",
      "Epoch 22/100\n",
      "323/323 [==============================] - 1s 2ms/step - loss: 0.4224 - accuracy: 0.8027\n",
      "Epoch 23/100\n",
      "323/323 [==============================] - 1s 2ms/step - loss: 0.4203 - accuracy: 0.8053\n",
      "Epoch 24/100\n",
      "323/323 [==============================] - 1s 2ms/step - loss: 0.4192 - accuracy: 0.8042\n",
      "Epoch 25/100\n",
      "323/323 [==============================] - 1s 2ms/step - loss: 0.4175 - accuracy: 0.8034\n",
      "Epoch 26/100\n",
      "323/323 [==============================] - 1s 2ms/step - loss: 0.4164 - accuracy: 0.8071\n",
      "Epoch 27/100\n",
      "323/323 [==============================] - 1s 2ms/step - loss: 0.4154 - accuracy: 0.8061\n",
      "Epoch 28/100\n",
      "323/323 [==============================] - 1s 2ms/step - loss: 0.4132 - accuracy: 0.8087\n",
      "Epoch 29/100\n",
      "323/323 [==============================] - 1s 2ms/step - loss: 0.4124 - accuracy: 0.8100\n",
      "Epoch 30/100\n",
      "323/323 [==============================] - 1s 2ms/step - loss: 0.4116 - accuracy: 0.8113\n",
      "Epoch 31/100\n",
      "323/323 [==============================] - 1s 2ms/step - loss: 0.4102 - accuracy: 0.8108\n",
      "Epoch 32/100\n",
      "323/323 [==============================] - 1s 2ms/step - loss: 0.4086 - accuracy: 0.8124\n",
      "Epoch 33/100\n",
      "323/323 [==============================] - 1s 2ms/step - loss: 0.4084 - accuracy: 0.8120\n",
      "Epoch 34/100\n",
      "323/323 [==============================] - 1s 2ms/step - loss: 0.4070 - accuracy: 0.8145\n",
      "Epoch 35/100\n",
      "323/323 [==============================] - 1s 2ms/step - loss: 0.4056 - accuracy: 0.8151\n",
      "Epoch 36/100\n",
      "323/323 [==============================] - 1s 2ms/step - loss: 0.4046 - accuracy: 0.8159\n",
      "Epoch 37/100\n",
      "323/323 [==============================] - 1s 2ms/step - loss: 0.4041 - accuracy: 0.8135\n",
      "Epoch 38/100\n",
      "323/323 [==============================] - 1s 2ms/step - loss: 0.4026 - accuracy: 0.8166\n",
      "Epoch 39/100\n",
      "323/323 [==============================] - 1s 3ms/step - loss: 0.4023 - accuracy: 0.8144\n",
      "Epoch 40/100\n",
      "323/323 [==============================] - 1s 3ms/step - loss: 0.4018 - accuracy: 0.8175\n",
      "Epoch 41/100\n",
      "323/323 [==============================] - 1s 3ms/step - loss: 0.4001 - accuracy: 0.8155\n",
      "Epoch 42/100\n",
      "323/323 [==============================] - 1s 2ms/step - loss: 0.3991 - accuracy: 0.8180\n",
      "Epoch 43/100\n",
      "323/323 [==============================] - 1s 2ms/step - loss: 0.3980 - accuracy: 0.8211\n",
      "Epoch 44/100\n",
      "323/323 [==============================] - 1s 3ms/step - loss: 0.3978 - accuracy: 0.8179\n",
      "Epoch 45/100\n",
      "323/323 [==============================] - 1s 2ms/step - loss: 0.3973 - accuracy: 0.8203\n",
      "Epoch 46/100\n",
      "323/323 [==============================] - 1s 3ms/step - loss: 0.3960 - accuracy: 0.8206\n",
      "Epoch 47/100\n",
      "323/323 [==============================] - 1s 2ms/step - loss: 0.3959 - accuracy: 0.8202\n",
      "Epoch 48/100\n",
      "323/323 [==============================] - 1s 2ms/step - loss: 0.3947 - accuracy: 0.8204\n",
      "Epoch 49/100\n",
      "323/323 [==============================] - 1s 2ms/step - loss: 0.3942 - accuracy: 0.8212\n",
      "Epoch 50/100\n",
      "323/323 [==============================] - 1s 2ms/step - loss: 0.3934 - accuracy: 0.8216\n",
      "Epoch 51/100\n",
      "323/323 [==============================] - 1s 2ms/step - loss: 0.3924 - accuracy: 0.8225\n",
      "Epoch 52/100\n",
      "323/323 [==============================] - 1s 2ms/step - loss: 0.3921 - accuracy: 0.8240\n",
      "Epoch 53/100\n",
      "323/323 [==============================] - 1s 2ms/step - loss: 0.3917 - accuracy: 0.8220\n",
      "Epoch 54/100\n",
      "323/323 [==============================] - 1s 2ms/step - loss: 0.3913 - accuracy: 0.8214\n",
      "Epoch 55/100\n",
      "323/323 [==============================] - 1s 2ms/step - loss: 0.3906 - accuracy: 0.8230\n",
      "Epoch 56/100\n",
      "323/323 [==============================] - 1s 2ms/step - loss: 0.3896 - accuracy: 0.8224\n",
      "Epoch 57/100\n",
      "323/323 [==============================] - 1s 2ms/step - loss: 0.3900 - accuracy: 0.8240\n",
      "Epoch 58/100\n",
      "323/323 [==============================] - 1s 2ms/step - loss: 0.3888 - accuracy: 0.8241\n",
      "Epoch 59/100\n",
      "323/323 [==============================] - 1s 2ms/step - loss: 0.3892 - accuracy: 0.8267\n",
      "Epoch 60/100\n",
      "323/323 [==============================] - 1s 2ms/step - loss: 0.3880 - accuracy: 0.8231\n",
      "Epoch 61/100\n",
      "323/323 [==============================] - 1s 2ms/step - loss: 0.3866 - accuracy: 0.8276\n",
      "Epoch 62/100\n",
      "323/323 [==============================] - 1s 2ms/step - loss: 0.3873 - accuracy: 0.8256\n",
      "Epoch 63/100\n",
      "323/323 [==============================] - 1s 2ms/step - loss: 0.3865 - accuracy: 0.8262\n",
      "Epoch 64/100\n",
      "323/323 [==============================] - 1s 2ms/step - loss: 0.3856 - accuracy: 0.8255\n",
      "Epoch 65/100\n",
      "323/323 [==============================] - 1s 2ms/step - loss: 0.3852 - accuracy: 0.8262\n",
      "Epoch 66/100\n",
      "323/323 [==============================] - 1s 2ms/step - loss: 0.3854 - accuracy: 0.8278\n",
      "Epoch 67/100\n",
      "323/323 [==============================] - 1s 2ms/step - loss: 0.3857 - accuracy: 0.8257\n",
      "Epoch 68/100\n",
      "323/323 [==============================] - 1s 2ms/step - loss: 0.3850 - accuracy: 0.8288\n",
      "Epoch 69/100\n",
      "323/323 [==============================] - 1s 2ms/step - loss: 0.3841 - accuracy: 0.8262\n",
      "Epoch 70/100\n",
      "323/323 [==============================] - 1s 2ms/step - loss: 0.3834 - accuracy: 0.8267\n",
      "Epoch 71/100\n",
      "323/323 [==============================] - 1s 2ms/step - loss: 0.3832 - accuracy: 0.8268\n",
      "Epoch 72/100\n",
      "323/323 [==============================] - 1s 2ms/step - loss: 0.3842 - accuracy: 0.8286\n",
      "Epoch 73/100\n",
      "323/323 [==============================] - 1s 2ms/step - loss: 0.3826 - accuracy: 0.8275\n",
      "Epoch 74/100\n",
      "323/323 [==============================] - 1s 2ms/step - loss: 0.3828 - accuracy: 0.8311\n",
      "Epoch 75/100\n",
      "323/323 [==============================] - 1s 2ms/step - loss: 0.3814 - accuracy: 0.8292\n",
      "Epoch 76/100\n",
      "323/323 [==============================] - 1s 2ms/step - loss: 0.3827 - accuracy: 0.8282\n",
      "Epoch 77/100\n",
      "323/323 [==============================] - 1s 2ms/step - loss: 0.3817 - accuracy: 0.8291\n",
      "Epoch 78/100\n",
      "323/323 [==============================] - 1s 2ms/step - loss: 0.3811 - accuracy: 0.8298\n",
      "Epoch 79/100\n",
      "323/323 [==============================] - 1s 2ms/step - loss: 0.3816 - accuracy: 0.8305\n",
      "Epoch 80/100\n",
      "323/323 [==============================] - 1s 2ms/step - loss: 0.3803 - accuracy: 0.8291\n",
      "Epoch 81/100\n",
      "323/323 [==============================] - 1s 2ms/step - loss: 0.3809 - accuracy: 0.8315\n",
      "Epoch 82/100\n",
      "323/323 [==============================] - 1s 2ms/step - loss: 0.3800 - accuracy: 0.8300\n",
      "Epoch 83/100\n",
      "323/323 [==============================] - 1s 2ms/step - loss: 0.3799 - accuracy: 0.8292\n",
      "Epoch 84/100\n",
      "323/323 [==============================] - 1s 2ms/step - loss: 0.3786 - accuracy: 0.8330\n",
      "Epoch 85/100\n",
      "323/323 [==============================] - 1s 2ms/step - loss: 0.3788 - accuracy: 0.8301\n",
      "Epoch 86/100\n",
      "323/323 [==============================] - 1s 2ms/step - loss: 0.3785 - accuracy: 0.8322\n",
      "Epoch 87/100\n",
      "323/323 [==============================] - 1s 2ms/step - loss: 0.3789 - accuracy: 0.8297\n",
      "Epoch 88/100\n",
      "323/323 [==============================] - 1s 2ms/step - loss: 0.3776 - accuracy: 0.8311\n",
      "Epoch 89/100\n",
      "323/323 [==============================] - 1s 2ms/step - loss: 0.3788 - accuracy: 0.8315\n",
      "Epoch 90/100\n",
      "323/323 [==============================] - 1s 2ms/step - loss: 0.3775 - accuracy: 0.8305\n",
      "Epoch 91/100\n",
      "323/323 [==============================] - 1s 2ms/step - loss: 0.3772 - accuracy: 0.8329\n",
      "Epoch 92/100\n",
      "323/323 [==============================] - 1s 2ms/step - loss: 0.3768 - accuracy: 0.8324\n",
      "Epoch 93/100\n",
      "323/323 [==============================] - 1s 2ms/step - loss: 0.3769 - accuracy: 0.8318\n",
      "Epoch 94/100\n",
      "323/323 [==============================] - 1s 2ms/step - loss: 0.3758 - accuracy: 0.8317\n",
      "Epoch 95/100\n",
      "323/323 [==============================] - 1s 2ms/step - loss: 0.3760 - accuracy: 0.8320\n",
      "Epoch 96/100\n",
      "323/323 [==============================] - 1s 2ms/step - loss: 0.3756 - accuracy: 0.8340\n",
      "Epoch 97/100\n",
      "323/323 [==============================] - 1s 2ms/step - loss: 0.3756 - accuracy: 0.8337\n",
      "Epoch 98/100\n",
      "323/323 [==============================] - 1s 2ms/step - loss: 0.3762 - accuracy: 0.8323\n",
      "Epoch 99/100\n",
      "323/323 [==============================] - 1s 2ms/step - loss: 0.3750 - accuracy: 0.8326\n",
      "Epoch 100/100\n",
      "323/323 [==============================] - 1s 2ms/step - loss: 0.3742 - accuracy: 0.8329\n"
     ]
    },
    {
     "data": {
      "text/plain": [
       "<keras.callbacks.History at 0x1f7fb106440>"
      ]
     },
     "execution_count": 40,
     "metadata": {},
     "output_type": "execute_result"
    }
   ],
   "source": [
    "model=keras.Sequential([keras.layers.Dense(20,input_shape=(26,),activation='relu'),keras.layers.Dense(1,activation='sigmoid')])\n",
    "\n",
    "model.compile(optimizer='adam',loss='binary_crossentropy',metrics=['accuracy'])\n",
    "\n",
    "model.fit(x_sm,y_sm,epochs=100)"
   ]
  },
  {
   "cell_type": "code",
   "execution_count": 41,
   "metadata": {},
   "outputs": [
    {
     "name": "stdout",
     "output_type": "stream",
     "text": [
      "65/65 [==============================] - 0s 2ms/step\n"
     ]
    }
   ],
   "source": [
    "yp=model.predict(X_test)"
   ]
  },
  {
   "cell_type": "code",
   "execution_count": 42,
   "metadata": {},
   "outputs": [],
   "source": [
    "y_pred=[]\n",
    "for i in yp:\n",
    "    if i>0.5:\n",
    "        y_pred.append(1)\n",
    "    else:\n",
    "        y_pred.append(0)"
   ]
  },
  {
   "cell_type": "code",
   "execution_count": 43,
   "metadata": {},
   "outputs": [
    {
     "name": "stdout",
     "output_type": "stream",
     "text": [
      "              precision    recall  f1-score   support\n",
      "\n",
      "           0       0.82      0.85      0.83      1033\n",
      "           1       0.84      0.82      0.83      1033\n",
      "\n",
      "    accuracy                           0.83      2066\n",
      "   macro avg       0.83      0.83      0.83      2066\n",
      "weighted avg       0.83      0.83      0.83      2066\n",
      "\n"
     ]
    }
   ],
   "source": [
    "print(classification_report(y_test,y_pred))"
   ]
  },
  {
   "cell_type": "code",
   "execution_count": null,
   "metadata": {},
   "outputs": [],
   "source": []
  }
 ],
 "metadata": {
  "kernelspec": {
   "display_name": "Python 3",
   "language": "python",
   "name": "python3"
  },
  "language_info": {
   "codemirror_mode": {
    "name": "ipython",
    "version": 3
   },
   "file_extension": ".py",
   "mimetype": "text/x-python",
   "name": "python",
   "nbconvert_exporter": "python",
   "pygments_lexer": "ipython3",
   "version": "3.10.0"
  },
  "orig_nbformat": 4
 },
 "nbformat": 4,
 "nbformat_minor": 2
}
