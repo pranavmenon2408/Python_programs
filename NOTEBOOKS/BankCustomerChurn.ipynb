{
 "cells": [
  {
   "cell_type": "code",
   "execution_count": 1,
   "metadata": {},
   "outputs": [],
   "source": [
    "import tensorflow as tf\n",
    "from tensorflow import keras\n",
    "import pandas as pd\n",
    "import matplotlib.pyplot as plt"
   ]
  },
  {
   "cell_type": "code",
   "execution_count": 2,
   "metadata": {},
   "outputs": [
    {
     "data": {
      "text/html": [
       "<div>\n",
       "<style scoped>\n",
       "    .dataframe tbody tr th:only-of-type {\n",
       "        vertical-align: middle;\n",
       "    }\n",
       "\n",
       "    .dataframe tbody tr th {\n",
       "        vertical-align: top;\n",
       "    }\n",
       "\n",
       "    .dataframe thead th {\n",
       "        text-align: right;\n",
       "    }\n",
       "</style>\n",
       "<table border=\"1\" class=\"dataframe\">\n",
       "  <thead>\n",
       "    <tr style=\"text-align: right;\">\n",
       "      <th></th>\n",
       "      <th>RowNumber</th>\n",
       "      <th>CustomerId</th>\n",
       "      <th>Surname</th>\n",
       "      <th>CreditScore</th>\n",
       "      <th>Geography</th>\n",
       "      <th>Gender</th>\n",
       "      <th>Age</th>\n",
       "      <th>Tenure</th>\n",
       "      <th>Balance</th>\n",
       "      <th>NumOfProducts</th>\n",
       "      <th>HasCrCard</th>\n",
       "      <th>IsActiveMember</th>\n",
       "      <th>EstimatedSalary</th>\n",
       "      <th>Exited</th>\n",
       "    </tr>\n",
       "  </thead>\n",
       "  <tbody>\n",
       "    <tr>\n",
       "      <th>9348</th>\n",
       "      <td>9349</td>\n",
       "      <td>15807239</td>\n",
       "      <td>Lung</td>\n",
       "      <td>664</td>\n",
       "      <td>France</td>\n",
       "      <td>Female</td>\n",
       "      <td>34</td>\n",
       "      <td>7</td>\n",
       "      <td>93920.47</td>\n",
       "      <td>1</td>\n",
       "      <td>0</td>\n",
       "      <td>0</td>\n",
       "      <td>179913.98</td>\n",
       "      <td>0</td>\n",
       "    </tr>\n",
       "    <tr>\n",
       "      <th>2785</th>\n",
       "      <td>2786</td>\n",
       "      <td>15771417</td>\n",
       "      <td>Thomas</td>\n",
       "      <td>640</td>\n",
       "      <td>France</td>\n",
       "      <td>Male</td>\n",
       "      <td>43</td>\n",
       "      <td>7</td>\n",
       "      <td>132412.38</td>\n",
       "      <td>1</td>\n",
       "      <td>0</td>\n",
       "      <td>0</td>\n",
       "      <td>69584.30</td>\n",
       "      <td>1</td>\n",
       "    </tr>\n",
       "    <tr>\n",
       "      <th>6896</th>\n",
       "      <td>6897</td>\n",
       "      <td>15649086</td>\n",
       "      <td>Patterson</td>\n",
       "      <td>596</td>\n",
       "      <td>France</td>\n",
       "      <td>Male</td>\n",
       "      <td>42</td>\n",
       "      <td>7</td>\n",
       "      <td>0.00</td>\n",
       "      <td>2</td>\n",
       "      <td>1</td>\n",
       "      <td>1</td>\n",
       "      <td>121568.37</td>\n",
       "      <td>0</td>\n",
       "    </tr>\n",
       "    <tr>\n",
       "      <th>7222</th>\n",
       "      <td>7223</td>\n",
       "      <td>15694237</td>\n",
       "      <td>McEwan</td>\n",
       "      <td>744</td>\n",
       "      <td>Spain</td>\n",
       "      <td>Male</td>\n",
       "      <td>39</td>\n",
       "      <td>4</td>\n",
       "      <td>95161.75</td>\n",
       "      <td>1</td>\n",
       "      <td>1</td>\n",
       "      <td>0</td>\n",
       "      <td>19409.77</td>\n",
       "      <td>0</td>\n",
       "    </tr>\n",
       "    <tr>\n",
       "      <th>8653</th>\n",
       "      <td>8654</td>\n",
       "      <td>15650454</td>\n",
       "      <td>Tran</td>\n",
       "      <td>641</td>\n",
       "      <td>France</td>\n",
       "      <td>Male</td>\n",
       "      <td>57</td>\n",
       "      <td>5</td>\n",
       "      <td>0.00</td>\n",
       "      <td>2</td>\n",
       "      <td>1</td>\n",
       "      <td>1</td>\n",
       "      <td>122449.18</td>\n",
       "      <td>0</td>\n",
       "    </tr>\n",
       "  </tbody>\n",
       "</table>\n",
       "</div>"
      ],
      "text/plain": [
       "      RowNumber  CustomerId    Surname  CreditScore Geography  Gender  Age  \\\n",
       "9348       9349    15807239       Lung          664    France  Female   34   \n",
       "2785       2786    15771417     Thomas          640    France    Male   43   \n",
       "6896       6897    15649086  Patterson          596    France    Male   42   \n",
       "7222       7223    15694237     McEwan          744     Spain    Male   39   \n",
       "8653       8654    15650454       Tran          641    France    Male   57   \n",
       "\n",
       "      Tenure    Balance  NumOfProducts  HasCrCard  IsActiveMember  \\\n",
       "9348       7   93920.47              1          0               0   \n",
       "2785       7  132412.38              1          0               0   \n",
       "6896       7       0.00              2          1               1   \n",
       "7222       4   95161.75              1          1               0   \n",
       "8653       5       0.00              2          1               1   \n",
       "\n",
       "      EstimatedSalary  Exited  \n",
       "9348        179913.98       0  \n",
       "2785         69584.30       1  \n",
       "6896        121568.37       0  \n",
       "7222         19409.77       0  \n",
       "8653        122449.18       0  "
      ]
     },
     "execution_count": 2,
     "metadata": {},
     "output_type": "execute_result"
    }
   ],
   "source": [
    "df=pd.read_csv(r\"D:\\Downloads\\Churn_Modelling.csv\")\n",
    "df.sample(5)"
   ]
  },
  {
   "cell_type": "code",
   "execution_count": 3,
   "metadata": {},
   "outputs": [],
   "source": [
    "df.drop(['RowNumber','CustomerId','Surname'],axis='columns',inplace=True)\n"
   ]
  },
  {
   "cell_type": "code",
   "execution_count": 4,
   "metadata": {},
   "outputs": [
    {
     "data": {
      "text/plain": [
       "dtype('int64')"
      ]
     },
     "execution_count": 4,
     "metadata": {},
     "output_type": "execute_result"
    }
   ],
   "source": [
    "df.CreditScore.dtypes"
   ]
  },
  {
   "cell_type": "code",
   "execution_count": 5,
   "metadata": {},
   "outputs": [
    {
     "data": {
      "text/html": [
       "<div>\n",
       "<style scoped>\n",
       "    .dataframe tbody tr th:only-of-type {\n",
       "        vertical-align: middle;\n",
       "    }\n",
       "\n",
       "    .dataframe tbody tr th {\n",
       "        vertical-align: top;\n",
       "    }\n",
       "\n",
       "    .dataframe thead th {\n",
       "        text-align: right;\n",
       "    }\n",
       "</style>\n",
       "<table border=\"1\" class=\"dataframe\">\n",
       "  <thead>\n",
       "    <tr style=\"text-align: right;\">\n",
       "      <th></th>\n",
       "      <th>CreditScore</th>\n",
       "      <th>Geography</th>\n",
       "      <th>Gender</th>\n",
       "      <th>Age</th>\n",
       "      <th>Tenure</th>\n",
       "      <th>Balance</th>\n",
       "      <th>NumOfProducts</th>\n",
       "      <th>HasCrCard</th>\n",
       "      <th>IsActiveMember</th>\n",
       "      <th>EstimatedSalary</th>\n",
       "      <th>Exited</th>\n",
       "    </tr>\n",
       "  </thead>\n",
       "  <tbody>\n",
       "    <tr>\n",
       "      <th>0</th>\n",
       "      <td>False</td>\n",
       "      <td>False</td>\n",
       "      <td>False</td>\n",
       "      <td>False</td>\n",
       "      <td>False</td>\n",
       "      <td>False</td>\n",
       "      <td>False</td>\n",
       "      <td>False</td>\n",
       "      <td>False</td>\n",
       "      <td>False</td>\n",
       "      <td>False</td>\n",
       "    </tr>\n",
       "    <tr>\n",
       "      <th>1</th>\n",
       "      <td>False</td>\n",
       "      <td>False</td>\n",
       "      <td>False</td>\n",
       "      <td>False</td>\n",
       "      <td>False</td>\n",
       "      <td>False</td>\n",
       "      <td>False</td>\n",
       "      <td>False</td>\n",
       "      <td>False</td>\n",
       "      <td>False</td>\n",
       "      <td>False</td>\n",
       "    </tr>\n",
       "    <tr>\n",
       "      <th>2</th>\n",
       "      <td>False</td>\n",
       "      <td>False</td>\n",
       "      <td>False</td>\n",
       "      <td>False</td>\n",
       "      <td>False</td>\n",
       "      <td>False</td>\n",
       "      <td>False</td>\n",
       "      <td>False</td>\n",
       "      <td>False</td>\n",
       "      <td>False</td>\n",
       "      <td>False</td>\n",
       "    </tr>\n",
       "    <tr>\n",
       "      <th>3</th>\n",
       "      <td>False</td>\n",
       "      <td>False</td>\n",
       "      <td>False</td>\n",
       "      <td>False</td>\n",
       "      <td>False</td>\n",
       "      <td>False</td>\n",
       "      <td>False</td>\n",
       "      <td>False</td>\n",
       "      <td>False</td>\n",
       "      <td>False</td>\n",
       "      <td>False</td>\n",
       "    </tr>\n",
       "    <tr>\n",
       "      <th>4</th>\n",
       "      <td>False</td>\n",
       "      <td>False</td>\n",
       "      <td>False</td>\n",
       "      <td>False</td>\n",
       "      <td>False</td>\n",
       "      <td>False</td>\n",
       "      <td>False</td>\n",
       "      <td>False</td>\n",
       "      <td>False</td>\n",
       "      <td>False</td>\n",
       "      <td>False</td>\n",
       "    </tr>\n",
       "    <tr>\n",
       "      <th>...</th>\n",
       "      <td>...</td>\n",
       "      <td>...</td>\n",
       "      <td>...</td>\n",
       "      <td>...</td>\n",
       "      <td>...</td>\n",
       "      <td>...</td>\n",
       "      <td>...</td>\n",
       "      <td>...</td>\n",
       "      <td>...</td>\n",
       "      <td>...</td>\n",
       "      <td>...</td>\n",
       "    </tr>\n",
       "    <tr>\n",
       "      <th>9995</th>\n",
       "      <td>False</td>\n",
       "      <td>False</td>\n",
       "      <td>False</td>\n",
       "      <td>False</td>\n",
       "      <td>False</td>\n",
       "      <td>False</td>\n",
       "      <td>False</td>\n",
       "      <td>False</td>\n",
       "      <td>False</td>\n",
       "      <td>False</td>\n",
       "      <td>False</td>\n",
       "    </tr>\n",
       "    <tr>\n",
       "      <th>9996</th>\n",
       "      <td>False</td>\n",
       "      <td>False</td>\n",
       "      <td>False</td>\n",
       "      <td>False</td>\n",
       "      <td>False</td>\n",
       "      <td>False</td>\n",
       "      <td>False</td>\n",
       "      <td>False</td>\n",
       "      <td>False</td>\n",
       "      <td>False</td>\n",
       "      <td>False</td>\n",
       "    </tr>\n",
       "    <tr>\n",
       "      <th>9997</th>\n",
       "      <td>False</td>\n",
       "      <td>False</td>\n",
       "      <td>False</td>\n",
       "      <td>False</td>\n",
       "      <td>False</td>\n",
       "      <td>False</td>\n",
       "      <td>False</td>\n",
       "      <td>False</td>\n",
       "      <td>False</td>\n",
       "      <td>False</td>\n",
       "      <td>False</td>\n",
       "    </tr>\n",
       "    <tr>\n",
       "      <th>9998</th>\n",
       "      <td>False</td>\n",
       "      <td>False</td>\n",
       "      <td>False</td>\n",
       "      <td>False</td>\n",
       "      <td>False</td>\n",
       "      <td>False</td>\n",
       "      <td>False</td>\n",
       "      <td>False</td>\n",
       "      <td>False</td>\n",
       "      <td>False</td>\n",
       "      <td>False</td>\n",
       "    </tr>\n",
       "    <tr>\n",
       "      <th>9999</th>\n",
       "      <td>False</td>\n",
       "      <td>False</td>\n",
       "      <td>False</td>\n",
       "      <td>False</td>\n",
       "      <td>False</td>\n",
       "      <td>False</td>\n",
       "      <td>False</td>\n",
       "      <td>False</td>\n",
       "      <td>False</td>\n",
       "      <td>False</td>\n",
       "      <td>False</td>\n",
       "    </tr>\n",
       "  </tbody>\n",
       "</table>\n",
       "<p>10000 rows × 11 columns</p>\n",
       "</div>"
      ],
      "text/plain": [
       "      CreditScore  Geography  Gender    Age  Tenure  Balance  NumOfProducts  \\\n",
       "0           False      False   False  False   False    False          False   \n",
       "1           False      False   False  False   False    False          False   \n",
       "2           False      False   False  False   False    False          False   \n",
       "3           False      False   False  False   False    False          False   \n",
       "4           False      False   False  False   False    False          False   \n",
       "...           ...        ...     ...    ...     ...      ...            ...   \n",
       "9995        False      False   False  False   False    False          False   \n",
       "9996        False      False   False  False   False    False          False   \n",
       "9997        False      False   False  False   False    False          False   \n",
       "9998        False      False   False  False   False    False          False   \n",
       "9999        False      False   False  False   False    False          False   \n",
       "\n",
       "      HasCrCard  IsActiveMember  EstimatedSalary  Exited  \n",
       "0         False           False            False   False  \n",
       "1         False           False            False   False  \n",
       "2         False           False            False   False  \n",
       "3         False           False            False   False  \n",
       "4         False           False            False   False  \n",
       "...         ...             ...              ...     ...  \n",
       "9995      False           False            False   False  \n",
       "9996      False           False            False   False  \n",
       "9997      False           False            False   False  \n",
       "9998      False           False            False   False  \n",
       "9999      False           False            False   False  \n",
       "\n",
       "[10000 rows x 11 columns]"
      ]
     },
     "execution_count": 5,
     "metadata": {},
     "output_type": "execute_result"
    }
   ],
   "source": [
    "df.isnull()"
   ]
  },
  {
   "cell_type": "code",
   "execution_count": 6,
   "metadata": {},
   "outputs": [
    {
     "data": {
      "text/plain": [
       "CreditScore          int64\n",
       "Geography           object\n",
       "Gender              object\n",
       "Age                  int64\n",
       "Tenure               int64\n",
       "Balance            float64\n",
       "NumOfProducts        int64\n",
       "HasCrCard            int64\n",
       "IsActiveMember       int64\n",
       "EstimatedSalary    float64\n",
       "Exited               int64\n",
       "dtype: object"
      ]
     },
     "execution_count": 6,
     "metadata": {},
     "output_type": "execute_result"
    }
   ],
   "source": [
    "df.dtypes"
   ]
  },
  {
   "cell_type": "code",
   "execution_count": 7,
   "metadata": {},
   "outputs": [
    {
     "data": {
      "text/plain": [
       "Index(['CreditScore', 'Age', 'Tenure', 'Balance', 'NumOfProducts', 'HasCrCard',\n",
       "       'IsActiveMember', 'EstimatedSalary', 'Exited', 'Geography_France',\n",
       "       'Geography_Germany', 'Geography_Spain', 'Gender_Female', 'Gender_Male'],\n",
       "      dtype='object')"
      ]
     },
     "execution_count": 7,
     "metadata": {},
     "output_type": "execute_result"
    }
   ],
   "source": [
    "cols=['Geography','Gender']\n",
    "df2=pd.get_dummies(data=df,columns=cols)\n",
    "df2.columns"
   ]
  },
  {
   "cell_type": "code",
   "execution_count": 8,
   "metadata": {},
   "outputs": [],
   "source": [
    "cols_scale=['CreditScore','Age','Tenure','Balance','EstimatedSalary']\n",
    "from sklearn.preprocessing import MinMaxScaler\n",
    "scaler=MinMaxScaler()\n",
    "\n",
    "df2[cols_scale]=scaler.fit_transform(df2[cols_scale])\n"
   ]
  },
  {
   "cell_type": "code",
   "execution_count": 9,
   "metadata": {},
   "outputs": [
    {
     "data": {
      "text/plain": [
       "array([1, 3, 2, 4], dtype=int64)"
      ]
     },
     "execution_count": 9,
     "metadata": {},
     "output_type": "execute_result"
    }
   ],
   "source": [
    "df2.NumOfProducts.unique()"
   ]
  },
  {
   "cell_type": "code",
   "execution_count": 10,
   "metadata": {},
   "outputs": [
    {
     "data": {
      "text/html": [
       "<div>\n",
       "<style scoped>\n",
       "    .dataframe tbody tr th:only-of-type {\n",
       "        vertical-align: middle;\n",
       "    }\n",
       "\n",
       "    .dataframe tbody tr th {\n",
       "        vertical-align: top;\n",
       "    }\n",
       "\n",
       "    .dataframe thead th {\n",
       "        text-align: right;\n",
       "    }\n",
       "</style>\n",
       "<table border=\"1\" class=\"dataframe\">\n",
       "  <thead>\n",
       "    <tr style=\"text-align: right;\">\n",
       "      <th></th>\n",
       "      <th>CreditScore</th>\n",
       "      <th>Age</th>\n",
       "      <th>Tenure</th>\n",
       "      <th>Balance</th>\n",
       "      <th>NumOfProducts</th>\n",
       "      <th>HasCrCard</th>\n",
       "      <th>IsActiveMember</th>\n",
       "      <th>EstimatedSalary</th>\n",
       "      <th>Exited</th>\n",
       "      <th>Geography_France</th>\n",
       "      <th>Geography_Germany</th>\n",
       "      <th>Geography_Spain</th>\n",
       "      <th>Gender_Female</th>\n",
       "      <th>Gender_Male</th>\n",
       "    </tr>\n",
       "  </thead>\n",
       "  <tbody>\n",
       "    <tr>\n",
       "      <th>7272</th>\n",
       "      <td>0.606</td>\n",
       "      <td>0.756757</td>\n",
       "      <td>0.0</td>\n",
       "      <td>0.483369</td>\n",
       "      <td>1</td>\n",
       "      <td>1</td>\n",
       "      <td>1</td>\n",
       "      <td>0.801760</td>\n",
       "      <td>0</td>\n",
       "      <td>1</td>\n",
       "      <td>0</td>\n",
       "      <td>0</td>\n",
       "      <td>1</td>\n",
       "      <td>0</td>\n",
       "    </tr>\n",
       "    <tr>\n",
       "      <th>6417</th>\n",
       "      <td>0.880</td>\n",
       "      <td>0.256757</td>\n",
       "      <td>0.6</td>\n",
       "      <td>0.000000</td>\n",
       "      <td>2</td>\n",
       "      <td>1</td>\n",
       "      <td>1</td>\n",
       "      <td>0.597419</td>\n",
       "      <td>0</td>\n",
       "      <td>0</td>\n",
       "      <td>0</td>\n",
       "      <td>1</td>\n",
       "      <td>0</td>\n",
       "      <td>1</td>\n",
       "    </tr>\n",
       "    <tr>\n",
       "      <th>2425</th>\n",
       "      <td>0.668</td>\n",
       "      <td>0.283784</td>\n",
       "      <td>0.4</td>\n",
       "      <td>0.556895</td>\n",
       "      <td>1</td>\n",
       "      <td>1</td>\n",
       "      <td>1</td>\n",
       "      <td>0.603060</td>\n",
       "      <td>0</td>\n",
       "      <td>0</td>\n",
       "      <td>0</td>\n",
       "      <td>1</td>\n",
       "      <td>1</td>\n",
       "      <td>0</td>\n",
       "    </tr>\n",
       "    <tr>\n",
       "      <th>7</th>\n",
       "      <td>0.052</td>\n",
       "      <td>0.148649</td>\n",
       "      <td>0.4</td>\n",
       "      <td>0.458540</td>\n",
       "      <td>4</td>\n",
       "      <td>1</td>\n",
       "      <td>0</td>\n",
       "      <td>0.596733</td>\n",
       "      <td>1</td>\n",
       "      <td>0</td>\n",
       "      <td>1</td>\n",
       "      <td>0</td>\n",
       "      <td>1</td>\n",
       "      <td>0</td>\n",
       "    </tr>\n",
       "    <tr>\n",
       "      <th>6934</th>\n",
       "      <td>0.400</td>\n",
       "      <td>0.283784</td>\n",
       "      <td>0.2</td>\n",
       "      <td>0.462818</td>\n",
       "      <td>2</td>\n",
       "      <td>1</td>\n",
       "      <td>1</td>\n",
       "      <td>0.978226</td>\n",
       "      <td>0</td>\n",
       "      <td>0</td>\n",
       "      <td>0</td>\n",
       "      <td>1</td>\n",
       "      <td>0</td>\n",
       "      <td>1</td>\n",
       "    </tr>\n",
       "  </tbody>\n",
       "</table>\n",
       "</div>"
      ],
      "text/plain": [
       "      CreditScore       Age  Tenure   Balance  NumOfProducts  HasCrCard  \\\n",
       "7272        0.606  0.756757     0.0  0.483369              1          1   \n",
       "6417        0.880  0.256757     0.6  0.000000              2          1   \n",
       "2425        0.668  0.283784     0.4  0.556895              1          1   \n",
       "7           0.052  0.148649     0.4  0.458540              4          1   \n",
       "6934        0.400  0.283784     0.2  0.462818              2          1   \n",
       "\n",
       "      IsActiveMember  EstimatedSalary  Exited  Geography_France  \\\n",
       "7272               1         0.801760       0                 1   \n",
       "6417               1         0.597419       0                 0   \n",
       "2425               1         0.603060       0                 0   \n",
       "7                  0         0.596733       1                 0   \n",
       "6934               1         0.978226       0                 0   \n",
       "\n",
       "      Geography_Germany  Geography_Spain  Gender_Female  Gender_Male  \n",
       "7272                  0                0              1            0  \n",
       "6417                  0                1              0            1  \n",
       "2425                  0                1              1            0  \n",
       "7                     1                0              1            0  \n",
       "6934                  0                1              0            1  "
      ]
     },
     "execution_count": 10,
     "metadata": {},
     "output_type": "execute_result"
    }
   ],
   "source": [
    "df2.sample(5)"
   ]
  },
  {
   "cell_type": "code",
   "execution_count": 11,
   "metadata": {},
   "outputs": [
    {
     "data": {
      "text/plain": [
       "0       1\n",
       "1       0\n",
       "2       1\n",
       "3       0\n",
       "4       0\n",
       "       ..\n",
       "9995    0\n",
       "9996    0\n",
       "9997    1\n",
       "9998    1\n",
       "9999    0\n",
       "Name: Exited, Length: 10000, dtype: int64"
      ]
     },
     "execution_count": 11,
     "metadata": {},
     "output_type": "execute_result"
    }
   ],
   "source": [
    "x=df2.drop('Exited',axis='columns')\n",
    "y=df2['Exited']\n",
    "y\n"
   ]
  },
  {
   "cell_type": "code",
   "execution_count": 12,
   "metadata": {},
   "outputs": [],
   "source": [
    "from sklearn.model_selection import train_test_split\n",
    "X_train,X_test,y_train,y_test=train_test_split(x,y,test_size=0.2,random_state=20)"
   ]
  },
  {
   "cell_type": "code",
   "execution_count": 13,
   "metadata": {},
   "outputs": [
    {
     "data": {
      "text/plain": [
       "(8000,)"
      ]
     },
     "execution_count": 13,
     "metadata": {},
     "output_type": "execute_result"
    }
   ],
   "source": [
    "y_train.shape"
   ]
  },
  {
   "cell_type": "code",
   "execution_count": 14,
   "metadata": {},
   "outputs": [
    {
     "data": {
      "text/plain": [
       "(8000, 13)"
      ]
     },
     "execution_count": 14,
     "metadata": {},
     "output_type": "execute_result"
    }
   ],
   "source": [
    "X_train.shape"
   ]
  },
  {
   "cell_type": "code",
   "execution_count": 15,
   "metadata": {},
   "outputs": [
    {
     "name": "stdout",
     "output_type": "stream",
     "text": [
      "Epoch 1/100\n",
      "250/250 [==============================] - 2s 2ms/step - loss: 0.4731 - accuracy: 0.7966\n",
      "Epoch 2/100\n",
      "250/250 [==============================] - 0s 2ms/step - loss: 0.4093 - accuracy: 0.8179\n",
      "Epoch 3/100\n",
      "250/250 [==============================] - 1s 3ms/step - loss: 0.3776 - accuracy: 0.8380\n",
      "Epoch 4/100\n",
      "250/250 [==============================] - 1s 3ms/step - loss: 0.3630 - accuracy: 0.8465\n",
      "Epoch 5/100\n",
      "250/250 [==============================] - 0s 2ms/step - loss: 0.3555 - accuracy: 0.8534\n",
      "Epoch 6/100\n",
      "250/250 [==============================] - 0s 2ms/step - loss: 0.3488 - accuracy: 0.8575\n",
      "Epoch 7/100\n",
      "250/250 [==============================] - 0s 2ms/step - loss: 0.3459 - accuracy: 0.8579\n",
      "Epoch 8/100\n",
      "250/250 [==============================] - 0s 2ms/step - loss: 0.3426 - accuracy: 0.8616\n",
      "Epoch 9/100\n",
      "250/250 [==============================] - 1s 2ms/step - loss: 0.3390 - accuracy: 0.8610\n",
      "Epoch 10/100\n",
      "250/250 [==============================] - 1s 3ms/step - loss: 0.3408 - accuracy: 0.8596\n",
      "Epoch 11/100\n",
      "250/250 [==============================] - 1s 2ms/step - loss: 0.3359 - accuracy: 0.8604\n",
      "Epoch 12/100\n",
      "250/250 [==============================] - 1s 2ms/step - loss: 0.3357 - accuracy: 0.8616\n",
      "Epoch 13/100\n",
      "250/250 [==============================] - 1s 2ms/step - loss: 0.3340 - accuracy: 0.8612\n",
      "Epoch 14/100\n",
      "250/250 [==============================] - 0s 2ms/step - loss: 0.3336 - accuracy: 0.8641\n",
      "Epoch 15/100\n",
      "250/250 [==============================] - 0s 2ms/step - loss: 0.3301 - accuracy: 0.8634\n",
      "Epoch 16/100\n",
      "250/250 [==============================] - 1s 2ms/step - loss: 0.3339 - accuracy: 0.8627\n",
      "Epoch 17/100\n",
      "250/250 [==============================] - 1s 2ms/step - loss: 0.3287 - accuracy: 0.8644\n",
      "Epoch 18/100\n",
      "250/250 [==============================] - 1s 2ms/step - loss: 0.3302 - accuracy: 0.8636\n",
      "Epoch 19/100\n",
      "250/250 [==============================] - 1s 2ms/step - loss: 0.3287 - accuracy: 0.8621\n",
      "Epoch 20/100\n",
      "250/250 [==============================] - 1s 2ms/step - loss: 0.3273 - accuracy: 0.8659\n",
      "Epoch 21/100\n",
      "250/250 [==============================] - 1s 2ms/step - loss: 0.3270 - accuracy: 0.8649\n",
      "Epoch 22/100\n",
      "250/250 [==============================] - 0s 2ms/step - loss: 0.3243 - accuracy: 0.8644\n",
      "Epoch 23/100\n",
      "250/250 [==============================] - 0s 2ms/step - loss: 0.3236 - accuracy: 0.8669\n",
      "Epoch 24/100\n",
      "250/250 [==============================] - 0s 2ms/step - loss: 0.3243 - accuracy: 0.8662\n",
      "Epoch 25/100\n",
      "250/250 [==============================] - 0s 2ms/step - loss: 0.3248 - accuracy: 0.8646\n",
      "Epoch 26/100\n",
      "250/250 [==============================] - 0s 2ms/step - loss: 0.3236 - accuracy: 0.8666\n",
      "Epoch 27/100\n",
      "250/250 [==============================] - 0s 2ms/step - loss: 0.3199 - accuracy: 0.8643\n",
      "Epoch 28/100\n",
      "250/250 [==============================] - 0s 2ms/step - loss: 0.3221 - accuracy: 0.8640\n",
      "Epoch 29/100\n",
      "250/250 [==============================] - 0s 2ms/step - loss: 0.3215 - accuracy: 0.8673\n",
      "Epoch 30/100\n",
      "250/250 [==============================] - 0s 2ms/step - loss: 0.3194 - accuracy: 0.8683\n",
      "Epoch 31/100\n",
      "250/250 [==============================] - 0s 2ms/step - loss: 0.3210 - accuracy: 0.8659\n",
      "Epoch 32/100\n",
      "250/250 [==============================] - 0s 2ms/step - loss: 0.3198 - accuracy: 0.8656\n",
      "Epoch 33/100\n",
      "250/250 [==============================] - 0s 2ms/step - loss: 0.3165 - accuracy: 0.8694\n",
      "Epoch 34/100\n",
      "250/250 [==============================] - 1s 2ms/step - loss: 0.3179 - accuracy: 0.8684\n",
      "Epoch 35/100\n",
      "250/250 [==============================] - 1s 2ms/step - loss: 0.3172 - accuracy: 0.8706\n",
      "Epoch 36/100\n",
      "250/250 [==============================] - 0s 2ms/step - loss: 0.3168 - accuracy: 0.8686\n",
      "Epoch 37/100\n",
      "250/250 [==============================] - 1s 2ms/step - loss: 0.3148 - accuracy: 0.8705\n",
      "Epoch 38/100\n",
      "250/250 [==============================] - 0s 2ms/step - loss: 0.3141 - accuracy: 0.8704\n",
      "Epoch 39/100\n",
      "250/250 [==============================] - 0s 2ms/step - loss: 0.3151 - accuracy: 0.8684\n",
      "Epoch 40/100\n",
      "250/250 [==============================] - 0s 2ms/step - loss: 0.3124 - accuracy: 0.8717\n",
      "Epoch 41/100\n",
      "250/250 [==============================] - 0s 2ms/step - loss: 0.3125 - accuracy: 0.8698\n",
      "Epoch 42/100\n",
      "250/250 [==============================] - 0s 2ms/step - loss: 0.3119 - accuracy: 0.8675\n",
      "Epoch 43/100\n",
      "250/250 [==============================] - 0s 2ms/step - loss: 0.3108 - accuracy: 0.8706\n",
      "Epoch 44/100\n",
      "250/250 [==============================] - 0s 2ms/step - loss: 0.3098 - accuracy: 0.8701\n",
      "Epoch 45/100\n",
      "250/250 [==============================] - 0s 2ms/step - loss: 0.3095 - accuracy: 0.8712\n",
      "Epoch 46/100\n",
      "250/250 [==============================] - 0s 2ms/step - loss: 0.3075 - accuracy: 0.8736\n",
      "Epoch 47/100\n",
      "250/250 [==============================] - 0s 2ms/step - loss: 0.3087 - accuracy: 0.8696\n",
      "Epoch 48/100\n",
      "250/250 [==============================] - 0s 2ms/step - loss: 0.3091 - accuracy: 0.8701\n",
      "Epoch 49/100\n",
      "250/250 [==============================] - 0s 2ms/step - loss: 0.3066 - accuracy: 0.8723\n",
      "Epoch 50/100\n",
      "250/250 [==============================] - 1s 2ms/step - loss: 0.3079 - accuracy: 0.8717\n",
      "Epoch 51/100\n",
      "250/250 [==============================] - 0s 2ms/step - loss: 0.3054 - accuracy: 0.8727\n",
      "Epoch 52/100\n",
      "250/250 [==============================] - 0s 2ms/step - loss: 0.3035 - accuracy: 0.8741\n",
      "Epoch 53/100\n",
      "250/250 [==============================] - 0s 2ms/step - loss: 0.3036 - accuracy: 0.8745\n",
      "Epoch 54/100\n",
      "250/250 [==============================] - 0s 2ms/step - loss: 0.3017 - accuracy: 0.8736\n",
      "Epoch 55/100\n",
      "250/250 [==============================] - 0s 2ms/step - loss: 0.3012 - accuracy: 0.8746\n",
      "Epoch 56/100\n",
      "250/250 [==============================] - 0s 2ms/step - loss: 0.3013 - accuracy: 0.8770\n",
      "Epoch 57/100\n",
      "250/250 [==============================] - 0s 2ms/step - loss: 0.2995 - accuracy: 0.8761\n",
      "Epoch 58/100\n",
      "250/250 [==============================] - 1s 2ms/step - loss: 0.2998 - accuracy: 0.8744\n",
      "Epoch 59/100\n",
      "250/250 [==============================] - 0s 2ms/step - loss: 0.2996 - accuracy: 0.8749\n",
      "Epoch 60/100\n",
      "250/250 [==============================] - 0s 2ms/step - loss: 0.2974 - accuracy: 0.8754\n",
      "Epoch 61/100\n",
      "250/250 [==============================] - 0s 2ms/step - loss: 0.2986 - accuracy: 0.8751\n",
      "Epoch 62/100\n",
      "250/250 [==============================] - 0s 2ms/step - loss: 0.2937 - accuracy: 0.8761\n",
      "Epoch 63/100\n",
      "250/250 [==============================] - 0s 2ms/step - loss: 0.2942 - accuracy: 0.8773\n",
      "Epoch 64/100\n",
      "250/250 [==============================] - 0s 2ms/step - loss: 0.2935 - accuracy: 0.8781\n",
      "Epoch 65/100\n",
      "250/250 [==============================] - 0s 2ms/step - loss: 0.2916 - accuracy: 0.8783\n",
      "Epoch 66/100\n",
      "250/250 [==============================] - 1s 2ms/step - loss: 0.2927 - accuracy: 0.8780\n",
      "Epoch 67/100\n",
      "250/250 [==============================] - 0s 2ms/step - loss: 0.2907 - accuracy: 0.8771\n",
      "Epoch 68/100\n",
      "250/250 [==============================] - 0s 2ms/step - loss: 0.2922 - accuracy: 0.8774\n",
      "Epoch 69/100\n",
      "250/250 [==============================] - 0s 2ms/step - loss: 0.2880 - accuracy: 0.8789\n",
      "Epoch 70/100\n",
      "250/250 [==============================] - 0s 2ms/step - loss: 0.2893 - accuracy: 0.8789\n",
      "Epoch 71/100\n",
      "250/250 [==============================] - 0s 2ms/step - loss: 0.2880 - accuracy: 0.8805\n",
      "Epoch 72/100\n",
      "250/250 [==============================] - 0s 2ms/step - loss: 0.2860 - accuracy: 0.8809\n",
      "Epoch 73/100\n",
      "250/250 [==============================] - 0s 2ms/step - loss: 0.2855 - accuracy: 0.8824\n",
      "Epoch 74/100\n",
      "250/250 [==============================] - 0s 2ms/step - loss: 0.2836 - accuracy: 0.8816\n",
      "Epoch 75/100\n",
      "250/250 [==============================] - 0s 2ms/step - loss: 0.2833 - accuracy: 0.8813\n",
      "Epoch 76/100\n",
      "250/250 [==============================] - 0s 2ms/step - loss: 0.2811 - accuracy: 0.8840\n",
      "Epoch 77/100\n",
      "250/250 [==============================] - 0s 2ms/step - loss: 0.2806 - accuracy: 0.8835\n",
      "Epoch 78/100\n",
      "250/250 [==============================] - 0s 2ms/step - loss: 0.2834 - accuracy: 0.8805\n",
      "Epoch 79/100\n",
      "250/250 [==============================] - 0s 2ms/step - loss: 0.2799 - accuracy: 0.8838\n",
      "Epoch 80/100\n",
      "250/250 [==============================] - 0s 2ms/step - loss: 0.2774 - accuracy: 0.8835\n",
      "Epoch 81/100\n",
      "250/250 [==============================] - 0s 2ms/step - loss: 0.2800 - accuracy: 0.8826\n",
      "Epoch 82/100\n",
      "250/250 [==============================] - 1s 2ms/step - loss: 0.2777 - accuracy: 0.8817\n",
      "Epoch 83/100\n",
      "250/250 [==============================] - 0s 2ms/step - loss: 0.2743 - accuracy: 0.8813\n",
      "Epoch 84/100\n",
      "250/250 [==============================] - 0s 2ms/step - loss: 0.2737 - accuracy: 0.8854\n",
      "Epoch 85/100\n",
      "250/250 [==============================] - 0s 2ms/step - loss: 0.2737 - accuracy: 0.8845\n",
      "Epoch 86/100\n",
      "250/250 [==============================] - 0s 2ms/step - loss: 0.2722 - accuracy: 0.8855\n",
      "Epoch 87/100\n",
      "250/250 [==============================] - 0s 2ms/step - loss: 0.2761 - accuracy: 0.8854\n",
      "Epoch 88/100\n",
      "250/250 [==============================] - 0s 2ms/step - loss: 0.2724 - accuracy: 0.8861\n",
      "Epoch 89/100\n",
      "250/250 [==============================] - 0s 2ms/step - loss: 0.2711 - accuracy: 0.8873\n",
      "Epoch 90/100\n",
      "250/250 [==============================] - 0s 2ms/step - loss: 0.2673 - accuracy: 0.8881\n",
      "Epoch 91/100\n",
      "250/250 [==============================] - 0s 2ms/step - loss: 0.2705 - accuracy: 0.8844\n",
      "Epoch 92/100\n",
      "250/250 [==============================] - 0s 2ms/step - loss: 0.2657 - accuracy: 0.8873\n",
      "Epoch 93/100\n",
      "250/250 [==============================] - 0s 2ms/step - loss: 0.2662 - accuracy: 0.8880\n",
      "Epoch 94/100\n",
      "250/250 [==============================] - 0s 2ms/step - loss: 0.2668 - accuracy: 0.8874\n",
      "Epoch 95/100\n",
      "250/250 [==============================] - 0s 2ms/step - loss: 0.2664 - accuracy: 0.8889\n",
      "Epoch 96/100\n",
      "250/250 [==============================] - 0s 2ms/step - loss: 0.2642 - accuracy: 0.8900\n",
      "Epoch 97/100\n",
      "250/250 [==============================] - 0s 2ms/step - loss: 0.2639 - accuracy: 0.8879\n",
      "Epoch 98/100\n",
      "250/250 [==============================] - 1s 2ms/step - loss: 0.2630 - accuracy: 0.8882\n",
      "Epoch 99/100\n",
      "250/250 [==============================] - 0s 2ms/step - loss: 0.2600 - accuracy: 0.8898\n",
      "Epoch 100/100\n",
      "250/250 [==============================] - 0s 2ms/step - loss: 0.2577 - accuracy: 0.8924\n"
     ]
    },
    {
     "data": {
      "text/plain": [
       "<keras.callbacks.History at 0x207fd5ddd80>"
      ]
     },
     "execution_count": 15,
     "metadata": {},
     "output_type": "execute_result"
    }
   ],
   "source": [
    "model=keras.Sequential([keras.layers.Dense(100,input_shape=(13,),activation='relu'),keras.layers.Dense(50,activation='relu'),keras.layers.Dense(10,activation='relu'),keras.layers.Dense(1,activation='sigmoid')])\n",
    "\n",
    "model.compile(optimizer='adam',loss='binary_crossentropy',metrics=['accuracy'])\n",
    "\n",
    "model.fit(X_train,y_train,epochs=100)"
   ]
  },
  {
   "cell_type": "code",
   "execution_count": 16,
   "metadata": {},
   "outputs": [
    {
     "name": "stdout",
     "output_type": "stream",
     "text": [
      "63/63 [==============================] - 0s 1ms/step - loss: 0.4023 - accuracy: 0.8535\n"
     ]
    },
    {
     "data": {
      "text/plain": [
       "[0.4023378789424896, 0.8535000085830688]"
      ]
     },
     "execution_count": 16,
     "metadata": {},
     "output_type": "execute_result"
    }
   ],
   "source": [
    "model.evaluate(X_test,y_test)"
   ]
  },
  {
   "cell_type": "code",
   "execution_count": 17,
   "metadata": {},
   "outputs": [
    {
     "name": "stdout",
     "output_type": "stream",
     "text": [
      "63/63 [==============================] - 0s 1ms/step\n"
     ]
    },
    {
     "data": {
      "text/plain": [
       "array([[0.00282961],\n",
       "       [0.00516005],\n",
       "       [0.00425675],\n",
       "       ...,\n",
       "       [0.01981514],\n",
       "       [0.01600466],\n",
       "       [0.00110868]], dtype=float32)"
      ]
     },
     "execution_count": 17,
     "metadata": {},
     "output_type": "execute_result"
    }
   ],
   "source": [
    "yp=model.predict(X_test)\n",
    "yp"
   ]
  },
  {
   "cell_type": "code",
   "execution_count": 18,
   "metadata": {},
   "outputs": [
    {
     "data": {
      "text/plain": [
       "278"
      ]
     },
     "execution_count": 18,
     "metadata": {},
     "output_type": "execute_result"
    }
   ],
   "source": [
    "y_pred=[]\n",
    "count=0\n",
    "for i in yp:\n",
    "    if i>0.5:\n",
    "        y_pred.append(1)\n",
    "        count+=1\n",
    "    else:\n",
    "        y_pred.append(0)\n",
    "count\n"
   ]
  },
  {
   "cell_type": "code",
   "execution_count": 19,
   "metadata": {},
   "outputs": [
    {
     "data": {
      "text/plain": [
       "9957    0\n",
       "1687    0\n",
       "2116    0\n",
       "231     0\n",
       "2780    0\n",
       "4578    0\n",
       "8260    0\n",
       "8557    0\n",
       "9523    0\n",
       "802     0\n",
       "Name: Exited, dtype: int64"
      ]
     },
     "execution_count": 19,
     "metadata": {},
     "output_type": "execute_result"
    }
   ],
   "source": [
    "y_test[:10]"
   ]
  },
  {
   "cell_type": "code",
   "execution_count": 20,
   "metadata": {},
   "outputs": [
    {
     "name": "stdout",
     "output_type": "stream",
     "text": [
      "              precision    recall  f1-score   support\n",
      "\n",
      "           0       0.89      0.94      0.91      1623\n",
      "           1       0.65      0.48      0.55       377\n",
      "\n",
      "    accuracy                           0.85      2000\n",
      "   macro avg       0.77      0.71      0.73      2000\n",
      "weighted avg       0.84      0.85      0.84      2000\n",
      "\n"
     ]
    }
   ],
   "source": [
    "from sklearn.metrics import classification_report\n",
    "\n",
    "print(classification_report(y_test,y_pred))"
   ]
  },
  {
   "cell_type": "code",
   "execution_count": 21,
   "metadata": {},
   "outputs": [
    {
     "data": {
      "text/plain": [
       "Text(95.72222222222221, 0.5, 'Truth')"
      ]
     },
     "execution_count": 21,
     "metadata": {},
     "output_type": "execute_result"
    },
    {
     "data": {
      "image/png": "[encoded data removed]",
      "text/plain": [
       "<Figure size 1000x700 with 2 Axes>"
      ]
     },
     "metadata": {},
     "output_type": "display_data"
    }
   ],
   "source": [
    "import seaborn as sn\n",
    "cm=tf.math.confusion_matrix(labels=y_test,predictions=y_pred)\n",
    "plt.figure(figsize=(10,7))\n",
    "sn.heatmap(cm,annot=True,fmt='d')\n",
    "plt.xlabel('Predicted')\n",
    "plt.ylabel('Truth')"
   ]
  },
  {
   "cell_type": "code",
   "execution_count": 22,
   "metadata": {},
   "outputs": [
    {
     "data": {
      "text/plain": [
       "0    7963\n",
       "1    2037\n",
       "Name: Exited, dtype: int64"
      ]
     },
     "execution_count": 22,
     "metadata": {},
     "output_type": "execute_result"
    }
   ],
   "source": [
    "y.value_counts()"
   ]
  },
  {
   "cell_type": "code",
   "execution_count": 23,
   "metadata": {},
   "outputs": [
    {
     "data": {
      "text/plain": [
       "1    7963\n",
       "0    7963\n",
       "Name: Exited, dtype: int64"
      ]
     },
     "execution_count": 23,
     "metadata": {},
     "output_type": "execute_result"
    }
   ],
   "source": [
    "from imblearn.over_sampling import SMOTE\n",
    "smote=SMOTE(sampling_strategy='minority')\n",
    "\n",
    "x_sm,y_sm=smote.fit_resample(x,y)\n",
    "\n",
    "y_sm.value_counts()"
   ]
  },
  {
   "cell_type": "code",
   "execution_count": 25,
   "metadata": {},
   "outputs": [
    {
     "data": {
      "text/plain": [
       "0    6370\n",
       "1    6370\n",
       "Name: Exited, dtype: int64"
      ]
     },
     "execution_count": 25,
     "metadata": {},
     "output_type": "execute_result"
    }
   ],
   "source": [
    "X_train,X_test,y_train,y_test=train_test_split(x_sm,y_sm,test_size=0.2,random_state=15,stratify=y_sm)\n",
    "y_train.value_counts()"
   ]
  },
  {
   "cell_type": "code",
   "execution_count": 26,
   "metadata": {},
   "outputs": [
    {
     "name": "stdout",
     "output_type": "stream",
     "text": [
      "Epoch 1/100\n",
      "498/498 [==============================] - 3s 3ms/step - loss: 0.5643 - accuracy: 0.7084\n",
      "Epoch 2/100\n",
      "498/498 [==============================] - 2s 3ms/step - loss: 0.4779 - accuracy: 0.7686\n",
      "Epoch 3/100\n",
      "498/498 [==============================] - 2s 3ms/step - loss: 0.4603 - accuracy: 0.7780\n",
      "Epoch 4/100\n",
      "498/498 [==============================] - 2s 4ms/step - loss: 0.4501 - accuracy: 0.7834\n",
      "Epoch 5/100\n",
      "498/498 [==============================] - 2s 3ms/step - loss: 0.4434 - accuracy: 0.7897\n",
      "Epoch 6/100\n",
      "498/498 [==============================] - 2s 3ms/step - loss: 0.4349 - accuracy: 0.7942\n",
      "Epoch 7/100\n",
      "498/498 [==============================] - 2s 4ms/step - loss: 0.4320 - accuracy: 0.7968\n",
      "Epoch 8/100\n",
      "498/498 [==============================] - 2s 3ms/step - loss: 0.4278 - accuracy: 0.7986\n",
      "Epoch 9/100\n",
      "498/498 [==============================] - 1s 3ms/step - loss: 0.4231 - accuracy: 0.8023\n",
      "Epoch 10/100\n",
      "498/498 [==============================] - 1s 3ms/step - loss: 0.4225 - accuracy: 0.8026\n",
      "Epoch 11/100\n",
      "498/498 [==============================] - 1s 3ms/step - loss: 0.4164 - accuracy: 0.8067\n",
      "Epoch 12/100\n",
      "498/498 [==============================] - 2s 4ms/step - loss: 0.4167 - accuracy: 0.8073\n",
      "Epoch 13/100\n",
      "498/498 [==============================] - 2s 3ms/step - loss: 0.4133 - accuracy: 0.8087\n",
      "Epoch 14/100\n",
      "498/498 [==============================] - 1s 3ms/step - loss: 0.4103 - accuracy: 0.8111\n",
      "Epoch 15/100\n",
      "498/498 [==============================] - 1s 3ms/step - loss: 0.4080 - accuracy: 0.8109\n",
      "Epoch 16/100\n",
      "498/498 [==============================] - 1s 3ms/step - loss: 0.4044 - accuracy: 0.8118\n",
      "Epoch 17/100\n",
      "498/498 [==============================] - 1s 3ms/step - loss: 0.4021 - accuracy: 0.8134\n",
      "Epoch 18/100\n",
      "498/498 [==============================] - 2s 4ms/step - loss: 0.3997 - accuracy: 0.8158\n",
      "Epoch 19/100\n",
      "498/498 [==============================] - 2s 4ms/step - loss: 0.3967 - accuracy: 0.8161\n",
      "Epoch 20/100\n",
      "498/498 [==============================] - 1s 2ms/step - loss: 0.3934 - accuracy: 0.8176\n",
      "Epoch 21/100\n",
      "498/498 [==============================] - 1s 3ms/step - loss: 0.3925 - accuracy: 0.8161\n",
      "Epoch 22/100\n",
      "498/498 [==============================] - 1s 3ms/step - loss: 0.3894 - accuracy: 0.8205\n",
      "Epoch 23/100\n",
      "498/498 [==============================] - 1s 2ms/step - loss: 0.3847 - accuracy: 0.8241\n",
      "Epoch 24/100\n",
      "498/498 [==============================] - 1s 2ms/step - loss: 0.3816 - accuracy: 0.8259\n",
      "Epoch 25/100\n",
      "498/498 [==============================] - 1s 2ms/step - loss: 0.3767 - accuracy: 0.8305\n",
      "Epoch 26/100\n",
      "498/498 [==============================] - 2s 3ms/step - loss: 0.3745 - accuracy: 0.8302\n",
      "Epoch 27/100\n",
      "498/498 [==============================] - 1s 2ms/step - loss: 0.3716 - accuracy: 0.8325\n",
      "Epoch 28/100\n",
      "498/498 [==============================] - 1s 3ms/step - loss: 0.3680 - accuracy: 0.8313\n",
      "Epoch 29/100\n",
      "498/498 [==============================] - 1s 3ms/step - loss: 0.3665 - accuracy: 0.8333\n",
      "Epoch 30/100\n",
      "498/498 [==============================] - 1s 3ms/step - loss: 0.3628 - accuracy: 0.8342\n",
      "Epoch 31/100\n",
      "498/498 [==============================] - 1s 3ms/step - loss: 0.3589 - accuracy: 0.8369\n",
      "Epoch 32/100\n",
      "498/498 [==============================] - 1s 3ms/step - loss: 0.3565 - accuracy: 0.8372\n",
      "Epoch 33/100\n",
      "498/498 [==============================] - 1s 2ms/step - loss: 0.3538 - accuracy: 0.8399\n",
      "Epoch 34/100\n",
      "498/498 [==============================] - 1s 2ms/step - loss: 0.3510 - accuracy: 0.8433\n",
      "Epoch 35/100\n",
      "498/498 [==============================] - 1s 2ms/step - loss: 0.3506 - accuracy: 0.8404\n",
      "Epoch 36/100\n",
      "498/498 [==============================] - 1s 3ms/step - loss: 0.3469 - accuracy: 0.8439\n",
      "Epoch 37/100\n",
      "498/498 [==============================] - 1s 3ms/step - loss: 0.3451 - accuracy: 0.8431\n",
      "Epoch 38/100\n",
      "498/498 [==============================] - 1s 3ms/step - loss: 0.3426 - accuracy: 0.8433\n",
      "Epoch 39/100\n",
      "498/498 [==============================] - 1s 2ms/step - loss: 0.3398 - accuracy: 0.8472\n",
      "Epoch 40/100\n",
      "498/498 [==============================] - 1s 2ms/step - loss: 0.3381 - accuracy: 0.8467\n",
      "Epoch 41/100\n",
      "498/498 [==============================] - 1s 2ms/step - loss: 0.3344 - accuracy: 0.8515\n",
      "Epoch 42/100\n",
      "498/498 [==============================] - 1s 3ms/step - loss: 0.3306 - accuracy: 0.8506\n",
      "Epoch 43/100\n",
      "498/498 [==============================] - 1s 3ms/step - loss: 0.3300 - accuracy: 0.8508\n",
      "Epoch 44/100\n",
      "498/498 [==============================] - 1s 2ms/step - loss: 0.3289 - accuracy: 0.8516\n",
      "Epoch 45/100\n",
      "498/498 [==============================] - 1s 2ms/step - loss: 0.3273 - accuracy: 0.8527\n",
      "Epoch 46/100\n",
      "498/498 [==============================] - 1s 2ms/step - loss: 0.3230 - accuracy: 0.8551\n",
      "Epoch 47/100\n",
      "498/498 [==============================] - 1s 3ms/step - loss: 0.3227 - accuracy: 0.8550\n",
      "Epoch 48/100\n",
      "498/498 [==============================] - 1s 3ms/step - loss: 0.3209 - accuracy: 0.8585\n",
      "Epoch 49/100\n",
      "498/498 [==============================] - 1s 3ms/step - loss: 0.3191 - accuracy: 0.8597\n",
      "Epoch 50/100\n",
      "498/498 [==============================] - 2s 4ms/step - loss: 0.3169 - accuracy: 0.8601\n",
      "Epoch 51/100\n",
      "498/498 [==============================] - 2s 3ms/step - loss: 0.3127 - accuracy: 0.8610\n",
      "Epoch 52/100\n",
      "498/498 [==============================] - 1s 2ms/step - loss: 0.3141 - accuracy: 0.8582\n",
      "Epoch 53/100\n",
      "498/498 [==============================] - 1s 3ms/step - loss: 0.3113 - accuracy: 0.8602\n",
      "Epoch 54/100\n",
      "498/498 [==============================] - 1s 2ms/step - loss: 0.3080 - accuracy: 0.8644\n",
      "Epoch 55/100\n",
      "498/498 [==============================] - 1s 2ms/step - loss: 0.3070 - accuracy: 0.8633\n",
      "Epoch 56/100\n",
      "498/498 [==============================] - 1s 2ms/step - loss: 0.3056 - accuracy: 0.8642\n",
      "Epoch 57/100\n",
      "498/498 [==============================] - 1s 2ms/step - loss: 0.3062 - accuracy: 0.8660\n",
      "Epoch 58/100\n",
      "498/498 [==============================] - 1s 2ms/step - loss: 0.2994 - accuracy: 0.8683\n",
      "Epoch 59/100\n",
      "498/498 [==============================] - 1s 2ms/step - loss: 0.3010 - accuracy: 0.8674\n",
      "Epoch 60/100\n",
      "498/498 [==============================] - 1s 2ms/step - loss: 0.2996 - accuracy: 0.8680\n",
      "Epoch 61/100\n",
      "498/498 [==============================] - 1s 2ms/step - loss: 0.2968 - accuracy: 0.8698\n",
      "Epoch 62/100\n",
      "498/498 [==============================] - 1s 2ms/step - loss: 0.2942 - accuracy: 0.8709\n",
      "Epoch 63/100\n",
      "498/498 [==============================] - 1s 2ms/step - loss: 0.2920 - accuracy: 0.8715\n",
      "Epoch 64/100\n",
      "498/498 [==============================] - 1s 2ms/step - loss: 0.2890 - accuracy: 0.8729\n",
      "Epoch 65/100\n",
      "498/498 [==============================] - 1s 2ms/step - loss: 0.2927 - accuracy: 0.8700\n",
      "Epoch 66/100\n",
      "498/498 [==============================] - 1s 3ms/step - loss: 0.2858 - accuracy: 0.8755\n",
      "Epoch 67/100\n",
      "498/498 [==============================] - 1s 3ms/step - loss: 0.2890 - accuracy: 0.8739\n",
      "Epoch 68/100\n",
      "498/498 [==============================] - 1s 2ms/step - loss: 0.2815 - accuracy: 0.8776\n",
      "Epoch 69/100\n",
      "498/498 [==============================] - 1s 2ms/step - loss: 0.2821 - accuracy: 0.8754\n",
      "Epoch 70/100\n",
      "498/498 [==============================] - 1s 2ms/step - loss: 0.2835 - accuracy: 0.8772\n",
      "Epoch 71/100\n",
      "498/498 [==============================] - 1s 2ms/step - loss: 0.2810 - accuracy: 0.8789\n",
      "Epoch 72/100\n",
      "498/498 [==============================] - 1s 2ms/step - loss: 0.2800 - accuracy: 0.8794\n",
      "Epoch 73/100\n",
      "498/498 [==============================] - 1s 2ms/step - loss: 0.2796 - accuracy: 0.8765\n",
      "Epoch 74/100\n",
      "498/498 [==============================] - 1s 2ms/step - loss: 0.2752 - accuracy: 0.8789\n",
      "Epoch 75/100\n",
      "498/498 [==============================] - 1s 2ms/step - loss: 0.2749 - accuracy: 0.8779\n",
      "Epoch 76/100\n",
      "498/498 [==============================] - 1s 2ms/step - loss: 0.2720 - accuracy: 0.8806\n",
      "Epoch 77/100\n",
      "498/498 [==============================] - 1s 2ms/step - loss: 0.2704 - accuracy: 0.8828\n",
      "Epoch 78/100\n",
      "498/498 [==============================] - 1s 2ms/step - loss: 0.2690 - accuracy: 0.8833\n",
      "Epoch 79/100\n",
      "498/498 [==============================] - 1s 2ms/step - loss: 0.2698 - accuracy: 0.8836\n",
      "Epoch 80/100\n",
      "498/498 [==============================] - 1s 2ms/step - loss: 0.2697 - accuracy: 0.8838\n",
      "Epoch 81/100\n",
      "498/498 [==============================] - 1s 2ms/step - loss: 0.2667 - accuracy: 0.8826\n",
      "Epoch 82/100\n",
      "498/498 [==============================] - 1s 2ms/step - loss: 0.2674 - accuracy: 0.8848\n",
      "Epoch 83/100\n",
      "498/498 [==============================] - 1s 2ms/step - loss: 0.2650 - accuracy: 0.8853\n",
      "Epoch 84/100\n",
      "498/498 [==============================] - 1s 2ms/step - loss: 0.2627 - accuracy: 0.8885\n",
      "Epoch 85/100\n",
      "498/498 [==============================] - 1s 2ms/step - loss: 0.2623 - accuracy: 0.8876\n",
      "Epoch 86/100\n",
      "498/498 [==============================] - 1s 2ms/step - loss: 0.2599 - accuracy: 0.8887\n",
      "Epoch 87/100\n",
      "498/498 [==============================] - 1s 2ms/step - loss: 0.2578 - accuracy: 0.8906\n",
      "Epoch 88/100\n",
      "498/498 [==============================] - 1s 2ms/step - loss: 0.2575 - accuracy: 0.8919\n",
      "Epoch 89/100\n",
      "498/498 [==============================] - 1s 2ms/step - loss: 0.2557 - accuracy: 0.8904\n",
      "Epoch 90/100\n",
      "498/498 [==============================] - 1s 2ms/step - loss: 0.2556 - accuracy: 0.8907\n",
      "Epoch 91/100\n",
      "498/498 [==============================] - 1s 2ms/step - loss: 0.2540 - accuracy: 0.8900\n",
      "Epoch 92/100\n",
      "498/498 [==============================] - 1s 2ms/step - loss: 0.2523 - accuracy: 0.8912\n",
      "Epoch 93/100\n",
      "498/498 [==============================] - 1s 2ms/step - loss: 0.2527 - accuracy: 0.8939\n",
      "Epoch 94/100\n",
      "498/498 [==============================] - 1s 2ms/step - loss: 0.2475 - accuracy: 0.8941\n",
      "Epoch 95/100\n",
      "498/498 [==============================] - 1s 2ms/step - loss: 0.2494 - accuracy: 0.8935\n",
      "Epoch 96/100\n",
      "498/498 [==============================] - 1s 2ms/step - loss: 0.2488 - accuracy: 0.8936\n",
      "Epoch 97/100\n",
      "498/498 [==============================] - 1s 2ms/step - loss: 0.2472 - accuracy: 0.8968\n",
      "Epoch 98/100\n",
      "498/498 [==============================] - 1s 2ms/step - loss: 0.2437 - accuracy: 0.8953\n",
      "Epoch 99/100\n",
      "498/498 [==============================] - 1s 2ms/step - loss: 0.2427 - accuracy: 0.8971\n",
      "Epoch 100/100\n",
      "498/498 [==============================] - 1s 2ms/step - loss: 0.2413 - accuracy: 0.8987\n"
     ]
    },
    {
     "data": {
      "text/plain": [
       "<keras.callbacks.History at 0x20782766260>"
      ]
     },
     "execution_count": 26,
     "metadata": {},
     "output_type": "execute_result"
    }
   ],
   "source": [
    "model=keras.Sequential([keras.layers.Dense(100,input_shape=(13,),activation='relu'),keras.layers.Dense(50,activation='relu'),keras.layers.Dense(10,activation='relu'),keras.layers.Dense(1,activation='sigmoid')])\n",
    "\n",
    "model.compile(optimizer='adam',loss='binary_crossentropy',metrics=['accuracy'])\n",
    "\n",
    "model.fit(x_sm,y_sm,epochs=100)"
   ]
  },
  {
   "cell_type": "code",
   "execution_count": 30,
   "metadata": {},
   "outputs": [
    {
     "name": "stdout",
     "output_type": "stream",
     "text": [
      "100/100 [==============================] - 0s 3ms/step - loss: 0.2296 - accuracy: 0.9014\n"
     ]
    },
    {
     "data": {
      "text/plain": [
       "[0.22955000400543213, 0.9014438390731812]"
      ]
     },
     "execution_count": 30,
     "metadata": {},
     "output_type": "execute_result"
    }
   ],
   "source": [
    "model.evaluate(X_test,y_test)"
   ]
  },
  {
   "cell_type": "code",
   "execution_count": 27,
   "metadata": {},
   "outputs": [
    {
     "name": "stdout",
     "output_type": "stream",
     "text": [
      "100/100 [==============================] - 0s 2ms/step\n"
     ]
    }
   ],
   "source": [
    "yp=model.predict(X_test)"
   ]
  },
  {
   "cell_type": "code",
   "execution_count": 28,
   "metadata": {},
   "outputs": [
    {
     "data": {
      "text/plain": [
       "1589"
      ]
     },
     "execution_count": 28,
     "metadata": {},
     "output_type": "execute_result"
    }
   ],
   "source": [
    "y_pred=[]\n",
    "count=0\n",
    "for i in yp:\n",
    "    if i>0.5:\n",
    "        y_pred.append(1)\n",
    "        count+=1\n",
    "    else:\n",
    "        y_pred.append(0)\n",
    "count"
   ]
  },
  {
   "cell_type": "code",
   "execution_count": 29,
   "metadata": {},
   "outputs": [
    {
     "name": "stdout",
     "output_type": "stream",
     "text": [
      "              precision    recall  f1-score   support\n",
      "\n",
      "           0       0.90      0.90      0.90      1593\n",
      "           1       0.90      0.90      0.90      1593\n",
      "\n",
      "    accuracy                           0.90      3186\n",
      "   macro avg       0.90      0.90      0.90      3186\n",
      "weighted avg       0.90      0.90      0.90      3186\n",
      "\n"
     ]
    }
   ],
   "source": [
    "print(classification_report(y_test,y_pred))"
   ]
  },
  {
   "cell_type": "code",
   "execution_count": null,
   "metadata": {},
   "outputs": [],
   "source": []
  }
 ],
 "metadata": {
  "kernelspec": {
   "display_name": "Python 3",
   "language": "python",
   "name": "python3"
  },
  "language_info": {
   "codemirror_mode": {
    "name": "ipython",
    "version": 3
   },
   "file_extension": ".py",
   "mimetype": "text/x-python",
   "name": "python",
   "nbconvert_exporter": "python",
   "pygments_lexer": "ipython3",
   "version": "3.10.0"
  },
  "orig_nbformat": 4
 },
 "nbformat": 4,
 "nbformat_minor": 2
}
